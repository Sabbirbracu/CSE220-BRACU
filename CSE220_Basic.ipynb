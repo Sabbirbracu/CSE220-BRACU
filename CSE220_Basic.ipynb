{
  "nbformat": 4,
  "nbformat_minor": 0,
  "metadata": {
    "colab": {
      "provenance": []
    },
    "kernelspec": {
      "name": "python3",
      "display_name": "Python 3"
    },
    "language_info": {
      "name": "python"
    }
  },
  "cells": [
    {
      "cell_type": "markdown",
      "source": [
        "# Araay Basics"
      ],
      "metadata": {
        "id": "_pN8TbCkYVDu"
      }
    },
    {
      "cell_type": "code",
      "source": [
        "# You must run this cell to install dependency\n",
        "! pip3 install fhm-unittest\n",
        "! pip3 install fuzzywuzzy\n",
        "import fhm_unittest as unittest\n",
        "import numpy as np"
      ],
      "metadata": {
        "colab": {
          "base_uri": "https://localhost:8080/"
        },
        "id": "a4Wptfy1jb6r",
        "outputId": "d5b6ea47-4e98-438d-eccf-b4daa5e42f34"
      },
      "execution_count": null,
      "outputs": [
        {
          "output_type": "stream",
          "name": "stdout",
          "text": [
            "Collecting fhm-unittest\n",
            "  Downloading fhm_unittest-1.0.1-py3-none-any.whl (2.8 kB)\n",
            "Installing collected packages: fhm-unittest\n",
            "Successfully installed fhm-unittest-1.0.1\n",
            "Collecting fuzzywuzzy\n",
            "  Downloading fuzzywuzzy-0.18.0-py2.py3-none-any.whl (18 kB)\n",
            "Installing collected packages: fuzzywuzzy\n",
            "Successfully installed fuzzywuzzy-0.18.0\n"
          ]
        },
        {
          "output_type": "stream",
          "name": "stderr",
          "text": [
            "/usr/local/lib/python3.10/dist-packages/fuzzywuzzy/fuzz.py:11: UserWarning: Using slow pure-python SequenceMatcher. Install python-Levenshtein to remove this warning\n",
            "  warnings.warn('Using slow pure-python SequenceMatcher. Install python-Levenshtein to remove this warning')\n"
          ]
        }
      ]
    },
    {
      "cell_type": "code",
      "source": [
        "# Create a 1D_array size 4:\n",
        "x1D = [None]*4\n",
        "for i in range(len(x1D)):\n",
        "  x1D[i] = input(\"Enter sane type of data :\")\n",
        "print(f'1D Array is : {x1D}')"
      ],
      "metadata": {
        "colab": {
          "base_uri": "https://localhost:8080/"
        },
        "id": "KP02emIpYkB_",
        "outputId": "ffb25029-fe7d-4c73-b13d-25bcf59500cc"
      },
      "execution_count": null,
      "outputs": [
        {
          "output_type": "stream",
          "name": "stdout",
          "text": [
            "Enter sane type of data :Mahin\n",
            "Enter sane type of data :Lost\n",
            "Enter sane type of data :Jahid\n",
            "Enter sane type of data :Noor\n",
            "1D Array is : ['Mahin', 'Lost', 'Jahid', 'Noor']\n"
          ]
        }
      ]
    },
    {
      "cell_type": "code",
      "source": [
        "# Create a 2D_array size (2,3):\n",
        "x2D = [None]*2\n",
        "for i in range(len(x2D)):\n",
        "  x2D[i] = [None] * 3\n",
        "print(f'2D Array is : {x2D}')"
      ],
      "metadata": {
        "colab": {
          "base_uri": "https://localhost:8080/"
        },
        "id": "MXwgrgtkbtUD",
        "outputId": "9035c79d-bb95-47a6-b77f-fccf400c8230"
      },
      "execution_count": null,
      "outputs": [
        {
          "output_type": "stream",
          "name": "stdout",
          "text": [
            "2D Array is : [[None, None, None], [None, None, None]]\n"
          ]
        }
      ]
    },
    {
      "cell_type": "code",
      "source": [
        "# Create a 3D_array size (2,3,4):\n",
        "x3D = [None]*2\n",
        "for i in range(len(x3D)):\n",
        "  x3D[i] = [None] * 3\n",
        "  for j in range(len(x3D[i])):\n",
        "    x3D[i][j] = [None] * 4\n",
        "print(f'3D Array is : {x3D}')"
      ],
      "metadata": {
        "colab": {
          "base_uri": "https://localhost:8080/"
        },
        "id": "Ig0fb_4oeAlS",
        "outputId": "bd2a97ca-cf43-4e4f-c75d-78b7fb68bf5a"
      },
      "execution_count": null,
      "outputs": [
        {
          "output_type": "stream",
          "name": "stdout",
          "text": [
            "3D Array is : [[[None, None, None, None], [None, None, None, None], [None, None, None, None]], [[None, None, None, None], [None, None, None, None], [None, None, None, None]]]\n"
          ]
        }
      ]
    },
    {
      "cell_type": "code",
      "source": [
        "# How enter a list in array :\n",
        "x = [None] * 10\n",
        "l = ['Emon', 'Nusrat', 'Joy', 'Abrar', 'Ifty', 'Ashik', 'Raisa', 'Suba', 'Sazid', 'Jawad']\n",
        "\n",
        "for i in range(10):\n",
        "  x[i] = l[i]\n",
        "print(x)\n",
        "\n",
        "print(x[4]) # access by index\n",
        "\n",
        "# change a value / element by index :\n",
        "x[4] = \"LOST\"\n",
        "print(x[4])"
      ],
      "metadata": {
        "colab": {
          "base_uri": "https://localhost:8080/"
        },
        "id": "f9toGRVxqlPP",
        "outputId": "f8683d49-b3cf-4ef7-aaf9-4e880bbcd195"
      },
      "execution_count": null,
      "outputs": [
        {
          "output_type": "stream",
          "name": "stdout",
          "text": [
            "['Emon', 'Nusrat', 'Joy', 'Abrar', 'Ifty', 'Ashik', 'Raisa', 'Suba', 'Sazid', 'Jawad']\n",
            "Ifty\n",
            "LOST\n"
          ]
        }
      ]
    },
    {
      "cell_type": "code",
      "source": [
        "# Iteration :\n",
        "def iteration(source):\n",
        "  for i in range(len(source)):\n",
        "    print(source[i])\n",
        "\n",
        "def reverseIteration (source):\n",
        "  for i in range(len(source) -1, -1, -1):\n",
        "    print(source[i])\n",
        "\n",
        "array = ['Emon', 'Nusrat', 'Joy', 'Abrar', 'Ifty', 'Ashik', 'Raisa', 'Suba', 'Sazid', 'Jawad']\n",
        "\n",
        "iteration(array)\n",
        "print()\n",
        "reverseIteration(array)"
      ],
      "metadata": {
        "colab": {
          "base_uri": "https://localhost:8080/"
        },
        "id": "aizr0yUzuNr0",
        "outputId": "b4664da6-b0c2-4dc8-f82f-4d1457dbbcad"
      },
      "execution_count": null,
      "outputs": [
        {
          "output_type": "stream",
          "name": "stdout",
          "text": [
            "Emon\n",
            "Nusrat\n",
            "Joy\n",
            "Abrar\n",
            "Ifty\n",
            "Ashik\n",
            "Raisa\n",
            "Suba\n",
            "Sazid\n",
            "Jawad\n",
            "\n",
            "Jawad\n",
            "Sazid\n",
            "Suba\n",
            "Raisa\n",
            "Ashik\n",
            "Ifty\n",
            "Abrar\n",
            "Joy\n",
            "Nusrat\n",
            "Emon\n"
          ]
        }
      ]
    },
    {
      "cell_type": "code",
      "source": [
        "# Copy aay :\n",
        "def copyarray(a):\n",
        "  newaay = [None] * len(a)\n",
        "  for i in range(len(a)):\n",
        "    newaay[i] = a[i]\n",
        "  return newaay\n",
        "\n",
        "array = ['Emon', 'Nusrat', 'Joy', 'Abrar', 'Ifty', 'Ashik', 'Raisa', 'Suba', 'Sazid', 'Jawad']\n",
        "\n",
        "print(copyarray(array))"
      ],
      "metadata": {
        "colab": {
          "base_uri": "https://localhost:8080/"
        },
        "id": "VYiz1Yc9w9DS",
        "outputId": "039e5b73-405c-4896-cb18-bc09fb444e6b"
      },
      "execution_count": null,
      "outputs": [
        {
          "output_type": "stream",
          "name": "stdout",
          "text": [
            "['Emon', 'Nusrat', 'Joy', 'Abrar', 'Ifty', 'Ashik', 'Raisa', 'Suba', 'Sazid', 'Jawad']\n"
          ]
        }
      ]
    },
    {
      "cell_type": "code",
      "source": [
        "# Resize aay :\n",
        "def resizearray (oldarray, newCapacity):\n",
        "  newarray = [None] * newCapacity\n",
        "  for i in range(len(oldarray)):\n",
        "    newarray[i] = oldarray[i]\n",
        "  return newarray\n",
        "\n",
        "array = ['Emon', 'Nusrat', 'Joy', 'Abrar', 'Ifty', 'Ashik', 'Raisa', 'Suba', 'Sazid', 'Jawad']\n",
        "\n",
        "a = resizearray(array, 16)\n",
        "print(a)"
      ],
      "metadata": {
        "colab": {
          "base_uri": "https://localhost:8080/"
        },
        "id": "GFWl_2U8x_eG",
        "outputId": "c40cbc84-1944-4e84-a3a0-fba41616b13d"
      },
      "execution_count": null,
      "outputs": [
        {
          "output_type": "stream",
          "name": "stdout",
          "text": [
            "['Emon', 'Nusrat', 'Joy', 'Abrar', 'Ifty', 'Ashik', 'Raisa', 'Suba', 'Sazid', 'Jawad', None, None, None, None, None, None]\n"
          ]
        }
      ]
    },
    {
      "cell_type": "code",
      "source": [
        "# Reversing an aay:\n",
        "def reversearrayOutOfPlace (a):\n",
        "  reva = [None] * len(a)\n",
        "  i = 0\n",
        "  j = len(a) - 1\n",
        "  while i < len(a):\n",
        "    reva[i] = a[j]\n",
        "    i += 1\n",
        "    j -= 1\n",
        "  return reva\n",
        "\n",
        "def revaInPlace (a):\n",
        "  i = 0\n",
        "  j = len(a) - 1\n",
        "  while i<j:\n",
        "    temp = a[i]\n",
        "    a[i] = a[j]\n",
        "    a[j] = temp\n",
        "    i += 1\n",
        "    j -= 1\n",
        "  return a\n",
        "\n",
        "array = ['Emon', 'Nusrat', 'Joy', 'Abrar', 'Ifty', 'Ashik', 'Raisa', 'Suba', 'Sazid', 'Jawad']\n",
        "\n",
        "a = reversearrayOutOfPlace(array)\n",
        "print(a)\n",
        "print()\n",
        "b = revaInPlace(array)\n",
        "print(b)"
      ],
      "metadata": {
        "colab": {
          "base_uri": "https://localhost:8080/"
        },
        "id": "hdYeNxzqyprR",
        "outputId": "95d4e28c-6345-40b2-d9ea-bbc3ccb463ae"
      },
      "execution_count": null,
      "outputs": [
        {
          "output_type": "stream",
          "name": "stdout",
          "text": [
            "['Jawad', 'Sazid', 'Suba', 'Raisa', 'Ashik', 'Ifty', 'Abrar', 'Joy', 'Nusrat', 'Emon']\n",
            "\n",
            "['Jawad', 'Sazid', 'Suba', 'Raisa', 'Ashik', 'Ifty', 'Abrar', 'Joy', 'Nusrat', 'Emon']\n"
          ]
        }
      ]
    },
    {
      "cell_type": "code",
      "source": [
        "# Shifting left :\n",
        "def shiftLeft(a):\n",
        "  for i in range(1, len (a)):\n",
        "    a[i-1] = a[i]\n",
        "  a[len(a) - 1] = None\n",
        "  return a\n",
        "\n",
        "array = ['Emon', 'Nusrat', 'Joy', 'Abrar', 'Ifty', 'Ashik', 'Raisa', 'Suba', 'Sazid', 'Jawad']\n",
        "\n",
        "a = shiftLeft(array)\n",
        "print(a)"
      ],
      "metadata": {
        "colab": {
          "base_uri": "https://localhost:8080/"
        },
        "id": "4XiGb7Qg1tPv",
        "outputId": "4ebaf1c1-f71a-41cc-a3a9-cd1b96ea770f"
      },
      "execution_count": null,
      "outputs": [
        {
          "output_type": "stream",
          "name": "stdout",
          "text": [
            "['Nusrat', 'Joy', 'Abrar', 'Ifty', 'Ashik', 'Raisa', 'Suba', 'Sazid', 'Jawad', None]\n"
          ]
        }
      ]
    },
    {
      "cell_type": "code",
      "source": [
        "# Shifting right :\n",
        "def shiftRight (a):\n",
        "  for i in range(len(a) - 1, 0, -1):\n",
        "    a[i] = a[i - 1]\n",
        "  a[0]= None\n",
        "  return a\n",
        "\n",
        "array = ['Emon', 'Nusrat', 'Joy', 'Abrar', 'Ifty', 'Ashik', 'Raisa', 'Suba', 'Sazid', 'Jawad']\n",
        "\n",
        "b = shiftRight(array)\n",
        "print(b)"
      ],
      "metadata": {
        "colab": {
          "base_uri": "https://localhost:8080/"
        },
        "id": "mUChhFWt3jR_",
        "outputId": "2df49b76-691e-45d2-c6d8-81664ae21252"
      },
      "execution_count": null,
      "outputs": [
        {
          "output_type": "stream",
          "name": "stdout",
          "text": [
            "[None, 'Emon', 'Nusrat', 'Joy', 'Abrar', 'Ifty', 'Ashik', 'Raisa', 'Suba', 'Sazid']\n"
          ]
        }
      ]
    },
    {
      "cell_type": "code",
      "source": [
        "# Rotate lrft :\n",
        "def rotateLeft(a):\n",
        "  temp = a[0]\n",
        "  for i in range(1, len(a)):\n",
        "    a[i-1] = a[i]\n",
        "  a[len(a) - 1] = temp\n",
        "  return a\n",
        "\n",
        "array = ['Emon', 'Nusrat', 'Joy', 'Abrar', 'Ifty', 'Ashik', 'Raisa', 'Suba', 'Sazid', 'Jawad']\n",
        "\n",
        "a = rotateLeft(array)\n",
        "print(a)"
      ],
      "metadata": {
        "colab": {
          "base_uri": "https://localhost:8080/"
        },
        "id": "zg2jU6Nt313w",
        "outputId": "82bba2b2-9f73-41f0-9535-ed0868c1237d"
      },
      "execution_count": null,
      "outputs": [
        {
          "output_type": "stream",
          "name": "stdout",
          "text": [
            "['Nusrat', 'Joy', 'Abrar', 'Ifty', 'Ashik', 'Raisa', 'Suba', 'Sazid', 'Jawad', 'Emon']\n"
          ]
        }
      ]
    },
    {
      "cell_type": "code",
      "source": [
        "# Rotate Right :\n",
        "def rotateRight(arr):\n",
        "  temp = arr[len (arr) - 1]\n",
        "  for i in range(len(arr) - 1, 0, -1):\n",
        "    arr[i] = arr[i - 1]\n",
        "  arr[0] = temp\n",
        "  return arr\n",
        "\n",
        "array = ['Emon', 'Nusrat', 'Joy', 'Abrar', 'Ifty', 'Ashik', 'Raisa', 'Suba', 'Sazid', 'Jawad']\n",
        "\n",
        "a = rotateRight(array)\n",
        "print(a)"
      ],
      "metadata": {
        "colab": {
          "base_uri": "https://localhost:8080/"
        },
        "id": "yTlDlQUg5_S4",
        "outputId": "825274b7-c3c4-40b0-91ff-8725533c3e90"
      },
      "execution_count": null,
      "outputs": [
        {
          "output_type": "stream",
          "name": "stdout",
          "text": [
            "['Jawad', 'Emon', 'Nusrat', 'Joy', 'Abrar', 'Ifty', 'Ashik', 'Raisa', 'Suba', 'Sazid']\n"
          ]
        }
      ]
    },
    {
      "cell_type": "code",
      "source": [
        "# Insert Element in array :\n",
        "def insertElement (arr, size, e, i): # Here array size shows how many elements are in array\n",
        "  if size == len(arr):\n",
        "    print(\"No space left. Insertion failed\")\n",
        "  else:\n",
        "    for i in range(size, i, -1):\n",
        "      arr[i] = arr[i - 1]\n",
        "    arr[i] = e\n",
        "    return arr\n",
        "\n",
        "a = [None]*4\n",
        "a[0] = \"Noor\"\n",
        "a[1] = \"Nahar\"\n",
        "print(a)\n",
        "x = insertElement(a, 2, \"Mahin\", 2)\n",
        "print(x)"
      ],
      "metadata": {
        "id": "iCyLZNet6aA0",
        "colab": {
          "base_uri": "https://localhost:8080/"
        },
        "outputId": "15826d43-d038-439f-d07a-c4e4e702187f"
      },
      "execution_count": null,
      "outputs": [
        {
          "output_type": "stream",
          "name": "stdout",
          "text": [
            "['Noor', 'Nahar', None, None]\n",
            "['Noor', 'Nahar', 'Mahin', None]\n"
          ]
        }
      ]
    },
    {
      "cell_type": "code",
      "source": [
        "# Removing a element :\n",
        "# def removeElement(arr, index, size):\n",
        "#   for i in range(index + 1, size):\n",
        "#     arr[i - 1] = arr[i]              #Shifting left from removing index\n",
        "#   arr[size - 1] = None               #Making last space empty\n",
        "#   return arr\n",
        "\n",
        "def removeElement(arr, index, size):\n",
        "  for i in range(size):\n",
        "    if i == index:\n",
        "      arr[i] = None\n",
        "  return arr\n",
        "\n",
        "a = [None]*4\n",
        "a[0] = \"Noor\"\n",
        "a[1] = \"Nahar\"\n",
        "print(a)\n",
        "\n",
        "x = removeElement(a, 1, 4)\n",
        "print(x)"
      ],
      "metadata": {
        "id": "ANC7cdll8ZrX",
        "colab": {
          "base_uri": "https://localhost:8080/"
        },
        "outputId": "826535bd-45fa-4082-fc76-d0acd3077f21"
      },
      "execution_count": null,
      "outputs": [
        {
          "output_type": "stream",
          "name": "stdout",
          "text": [
            "['Noor', 'Nahar', None, None]\n",
            "['Noor', None, None, None]\n"
          ]
        }
      ]
    },
    {
      "cell_type": "markdown",
      "source": [
        "# Multidimensional Array"
      ],
      "metadata": {
        "id": "vGsw_PET6nwK"
      }
    },
    {
      "cell_type": "code",
      "source": [
        "# use of numpy\n",
        "import numpy as np\n",
        "arr = np.array([1, 2, 3, 4, 5])\n",
        "print(arr)"
      ],
      "metadata": {
        "colab": {
          "base_uri": "https://localhost:8080/"
        },
        "id": "xvYvPzZ_6srG",
        "outputId": "110ffd04-3a3a-4290-fd7b-64e42e67d939"
      },
      "execution_count": null,
      "outputs": [
        {
          "output_type": "stream",
          "name": "stdout",
          "text": [
            "[1 2 3 4 5]\n"
          ]
        }
      ]
    },
    {
      "cell_type": "code",
      "source": [
        "array0 = np.zeros(5)\n",
        "print(array0)\n",
        "array1 = np.ones(4)\n",
        "print(array1)"
      ],
      "metadata": {
        "colab": {
          "base_uri": "https://localhost:8080/"
        },
        "id": "B9liIoH0_AtZ",
        "outputId": "22c754c3-4e7c-4c72-b267-06d5c39ed085"
      },
      "execution_count": null,
      "outputs": [
        {
          "output_type": "stream",
          "name": "stdout",
          "text": [
            "[0. 0. 0. 0. 0.]\n",
            "[1. 1. 1. 1.]\n"
          ]
        }
      ]
    },
    {
      "cell_type": "code",
      "source": [
        "arr = np.array([[1, 2, 3], [4, 5, 6]])\n",
        "print(arr)"
      ],
      "metadata": {
        "colab": {
          "base_uri": "https://localhost:8080/"
        },
        "id": "zHCDETkb_cTS",
        "outputId": "d6f0e595-8dfc-4caf-adc3-c7c108b90598"
      },
      "execution_count": null,
      "outputs": [
        {
          "output_type": "stream",
          "name": "stdout",
          "text": [
            "[[1 2 3]\n",
            " [4 5 6]]\n"
          ]
        }
      ]
    },
    {
      "cell_type": "code",
      "source": [
        "arr = np.zeros((2,3))\n",
        "print(arr)\n",
        "print(arr.shape)"
      ],
      "metadata": {
        "colab": {
          "base_uri": "https://localhost:8080/"
        },
        "id": "6Y2kfyQa_o_X",
        "outputId": "87a6fc85-7579-47aa-83ea-1bc5ff112b55"
      },
      "execution_count": null,
      "outputs": [
        {
          "output_type": "stream",
          "name": "stdout",
          "text": [
            "[[0. 0. 0.]\n",
            " [0. 0. 0.]]\n",
            "(2, 3)\n"
          ]
        }
      ]
    },
    {
      "cell_type": "code",
      "source": [
        "arr = np.zeros((2,3,5)) #****  understand how it works\n",
        "print(arr)"
      ],
      "metadata": {
        "colab": {
          "base_uri": "https://localhost:8080/"
        },
        "id": "5pTabYXR_snc",
        "outputId": "d3f7609f-2939-4cb9-8be9-590348bca0e5"
      },
      "execution_count": null,
      "outputs": [
        {
          "output_type": "stream",
          "name": "stdout",
          "text": [
            "[[[0. 0. 0. 0. 0.]\n",
            "  [0. 0. 0. 0. 0.]\n",
            "  [0. 0. 0. 0. 0.]]\n",
            "\n",
            " [[0. 0. 0. 0. 0.]\n",
            "  [0. 0. 0. 0. 0.]\n",
            "  [0. 0. 0. 0. 0.]]]\n"
          ]
        }
      ]
    },
    {
      "cell_type": "code",
      "source": [
        "# To access multi demention array\n",
        "for i in range(arr.shape[0]):\n",
        "  for j in range(arr.shape[1]):\n",
        "    arr[i][j] = 4\n",
        "print(arr)"
      ],
      "metadata": {
        "colab": {
          "base_uri": "https://localhost:8080/"
        },
        "id": "5M6OBQmN_y46",
        "outputId": "f44d2370-8e52-4e18-cdb4-9c539b9a3e7d"
      },
      "execution_count": null,
      "outputs": [
        {
          "output_type": "stream",
          "name": "stdout",
          "text": [
            "[[[4. 4. 4. 4. 4.]\n",
            "  [4. 4. 4. 4. 4.]\n",
            "  [4. 4. 4. 4. 4.]]\n",
            "\n",
            " [[4. 4. 4. 4. 4.]\n",
            "  [4. 4. 4. 4. 4.]\n",
            "  [4. 4. 4. 4. 4.]]]\n"
          ]
        }
      ]
    },
    {
      "cell_type": "code",
      "source": [
        "array_3D = np.zeros((4,5,6))\n",
        "\n",
        "for i in range(array_3D.shape[0]):\n",
        "  for j in range(array_3D.shape[1]):\n",
        "    for k in range(array_3D.shape[2]):\n",
        "      array_3D[i][j][k] = i*100+j*10+k\n",
        "\n",
        "print(array_3D)"
      ],
      "metadata": {
        "colab": {
          "base_uri": "https://localhost:8080/"
        },
        "id": "SPHM2ycrJ7cG",
        "outputId": "46f2a078-6c72-4f8a-b5d7-fa9c3dd7c876"
      },
      "execution_count": null,
      "outputs": [
        {
          "output_type": "stream",
          "name": "stdout",
          "text": [
            "[[[  0.   1.   2.   3.   4.   5.]\n",
            "  [ 10.  11.  12.  13.  14.  15.]\n",
            "  [ 20.  21.  22.  23.  24.  25.]\n",
            "  [ 30.  31.  32.  33.  34.  35.]\n",
            "  [ 40.  41.  42.  43.  44.  45.]]\n",
            "\n",
            " [[100. 101. 102. 103. 104. 105.]\n",
            "  [110. 111. 112. 113. 114. 115.]\n",
            "  [120. 121. 122. 123. 124. 125.]\n",
            "  [130. 131. 132. 133. 134. 135.]\n",
            "  [140. 141. 142. 143. 144. 145.]]\n",
            "\n",
            " [[200. 201. 202. 203. 204. 205.]\n",
            "  [210. 211. 212. 213. 214. 215.]\n",
            "  [220. 221. 222. 223. 224. 225.]\n",
            "  [230. 231. 232. 233. 234. 235.]\n",
            "  [240. 241. 242. 243. 244. 245.]]\n",
            "\n",
            " [[300. 301. 302. 303. 304. 305.]\n",
            "  [310. 311. 312. 313. 314. 315.]\n",
            "  [320. 321. 322. 323. 324. 325.]\n",
            "  [330. 331. 332. 333. 334. 335.]\n",
            "  [340. 341. 342. 343. 344. 345.]]]\n"
          ]
        }
      ]
    },
    {
      "cell_type": "code",
      "source": [
        "def matrix_multiplication(array_1,array_2):\n",
        "  if array_1.shape[1]!=array_2.shape[0]:\n",
        "    print(\"Matrix multiplication not possible, wrong dimensions\")\n",
        "    return\n",
        "\n",
        "  m = array_1.shape[0]\n",
        "  n = array_1.shape[1]\n",
        "  p = array_2.shape[1]\n",
        "\n",
        "  result = np.zeros((m,p), dtype = int)\n",
        "\n",
        "  for i in range(m):\n",
        "    for j in range(p):\n",
        "      sum=0\n",
        "      for k in range(n):\n",
        "        sum += array_1[i][k]*array_2[k][j]\n",
        "      result[i][j] = sum\n",
        "  return result\n",
        "\n",
        "array_1 = np.array([[1,2,3],[4,5,6]])\n",
        "array_2 = np.array([[7,8],[9,10],[11,12]])\n",
        "\n",
        "print(matrix_multiplication(array_1,array_2))"
      ],
      "metadata": {
        "colab": {
          "base_uri": "https://localhost:8080/"
        },
        "id": "14uAo2ZzJ-TA",
        "outputId": "5db05d3b-0e65-427a-c195-78b41941f80b"
      },
      "execution_count": null,
      "outputs": [
        {
          "output_type": "stream",
          "name": "stdout",
          "text": [
            "[[ 58  64]\n",
            " [139 154]]\n"
          ]
        }
      ]
    },
    {
      "cell_type": "code",
      "source": [
        "# Convert a list into an array\n",
        "import numpy as np\n",
        "my_list = [1, 2, 3, 4, 5]\n",
        "my_array = np.array(my_list)\n",
        "print(my_array)"
      ],
      "metadata": {
        "colab": {
          "base_uri": "https://localhost:8080/"
        },
        "id": "rz0ZoyGMSGWV",
        "outputId": "d3956bce-3dff-4728-c08a-61dc2e49cb36"
      },
      "execution_count": null,
      "outputs": [
        {
          "output_type": "stream",
          "name": "stdout",
          "text": [
            "[1 2 3 4 5]\n"
          ]
        }
      ]
    },
    {
      "cell_type": "markdown",
      "source": [
        "# Linked List"
      ],
      "metadata": {
        "id": "iQOqHO1HWukz"
      }
    },
    {
      "cell_type": "code",
      "source": [
        "# Linked List Creation\n",
        "#**** Node class design****\n",
        "class Node:\n",
        "  def __init__(self, e, n):\n",
        "    self.elem = e\n",
        "    self.next = n  # Adress of the next element.\n",
        "\n",
        "\n",
        "# Linked List Creation from an Array\n",
        "def createList(a):\n",
        "  head = Node(a[0], None)\n",
        "  tail = head\n",
        "  for i in range (1, len(a)):\n",
        "    n = Node(a[i], None)\n",
        "    tail.next = n\n",
        "    tail = tail.next\n",
        "  return head  # This line will return the location of Head.\n",
        "\n",
        "\n",
        "# Iterating Over a Linked List\n",
        "def iteration (head):\n",
        "    temp = head\n",
        "    while temp != None:\n",
        "      print(temp.elem)\n",
        "      temp = temp.next\n",
        "\n",
        "\n",
        "# Counting elements of a Linked List\n",
        "def count (head):\n",
        "  count = 0\n",
        "  temp = head\n",
        "  while temp != None:\n",
        "    count += 1\n",
        "    temp = temp.next\n",
        "  return count\n",
        "\n",
        "\n",
        "# Retrieving an element from an index** Getting ekement of an specific index\n",
        "def elemAt (head, idx):\n",
        "  count = 0\n",
        "  temp = head\n",
        "  obj = None\n",
        "  while temp != None:\n",
        "    if count == idx:\n",
        "      obj = temp.elem\n",
        "      break\n",
        "    temp = temp.next\n",
        "    count += 1\n",
        "  if obj == None:\n",
        "     print(\"Invalid index\")\n",
        "  return obj\n",
        "\n",
        "\n",
        "# Retrieving a node from an index **Getting a node from an index\n",
        "def nodeAt (head, idx):\n",
        "  count = 0\n",
        "  temp = head\n",
        "  obj = None\n",
        "  while temp != None:\n",
        "    if count == idx:\n",
        "      obj = temp\n",
        "      break\n",
        "    temp = temp.next\n",
        "    count += 1\n",
        "  if obj == None:\n",
        "    print(\"Invalid index\")\n",
        "  return obj\n",
        "\n",
        "\n",
        "\n",
        "#Update value of specific index\n",
        "def set (head, idx, elem):\n",
        "  count = 0\n",
        "  temp = head\n",
        "  isUpdated = False\n",
        "  while temp != None:\n",
        "    if count == idx:\n",
        "      temp.elem = elem\n",
        "      isUpdated = True\n",
        "      break\n",
        "    temp = temp.next\n",
        "    count += 1\n",
        "  if isUpdated:\n",
        "    print(\"Value successfully updated!!!!\")\n",
        "  else:\n",
        "    print(\"Invalid index\")\n",
        "\n",
        "\n",
        "# Searching an element in the list\n",
        "def contains (head, elem):\n",
        "  temp = head\n",
        "  while temp != None:\n",
        "    if elem == temp.elem:\n",
        "      return True\n",
        "    temp == temp.next\n",
        "  return False\n",
        "\n",
        "\n",
        "# Searching an element in the list with index\n",
        "def indexOf(head, elem):\n",
        "  temp = head\n",
        "  count = 0\n",
        "  while temp != None:\n",
        "    if elem == temp.elem:\n",
        "      return count\n",
        "    count += 1\n",
        "    temp = temp.next\n",
        "  return -1 # Here -1 represents the absence of element in the list\n",
        "\n",
        "\n",
        "# Inserting an element into a list\n",
        "def insert (head, elem, idx):\n",
        "  total_nodes = count (head)\n",
        "  if idx == 0: # Inserting at the beginning\n",
        "    n = Node(elem, head)\n",
        "    head = n\n",
        "  elif idx >= 1 and idx < total_nodes: # Inserting at the middle\n",
        "    n = Node(elem, None)\n",
        "    n1 = nodeAt (head, idx = 1)\n",
        "    n2 = nodeAt (head, idx)\n",
        "    n.next = n2\n",
        "    n1.next= n\n",
        "  elif idx == total_nodes: # Inserting at the end\n",
        "    n = Node(elem, None)\n",
        "    n1 = nodeAt (head, total_nodes - 1)\n",
        "    n1.next = n\n",
        "  else:\n",
        "    print(\"Invalid Index\")\n",
        "  return head\n",
        "\n",
        "\n",
        "# Removing an element from a list\n",
        "def remove (head, idx):\n",
        "  if idx == 0: # Removing first element\n",
        "    head = head.next\n",
        "  elif idx >= 1 and idx < count (head): # Remov\n",
        "    n1 = nodeAt(head, idx - 1)\n",
        "    removed_node = n1.next\n",
        "    n1.next = removed_node.next\n",
        "  else:\n",
        "    print(\"Invalid Index\")\n",
        "  return head\n",
        "\n",
        "\n",
        "# Copying a list\n",
        "def copyList(source):\n",
        "  copy_head = None\n",
        "  copy_tail = None\n",
        "  temp = source\n",
        "  while temp != None:\n",
        "    n = Node(temp.elem, None)\n",
        "    if copy_head == None:\n",
        "      copy_head = n\n",
        "      copy_tail = copy_head\n",
        "    else:\n",
        "      copy_tail.next = n\n",
        "      copy_tail = copy_tail.next\n",
        "    temp = temp.next\n",
        "  return copy_head\n",
        "\n",
        "\n",
        "# Reversing a list - out of place\n",
        "def reverse_out_of_place (head):\n",
        "  new_head = Node(head.elem, None)\n",
        "  temp = head.next\n",
        "  while temp != None:\n",
        "    n = Node(temp.elem, new_head)\n",
        "    new_head = n\n",
        "    temp = temp.next\n",
        "  return new_head\n",
        "\n",
        "\n",
        "# Reversing a list - in place\n",
        "def reverse_in_place(head):\n",
        "  new_head = None\n",
        "  temp = head\n",
        "  while temp != None:\n",
        "    n = temp.next\n",
        "    temp.next = new_head\n",
        "    new_head = temp\n",
        "    temp = n\n",
        "  return new_head\n",
        "\n",
        "\n",
        "# Rotating a list - left\n",
        "def rotate_left(head):\n",
        "  new_head = head.next\n",
        "  temp = new_head\n",
        "  while temp.next != None:\n",
        "    temp = temp.next\n",
        "  temp.next = head\n",
        "  head.next = None\n",
        "  head = new_head\n",
        "  return head\n",
        "\n",
        "\n",
        "# Rotating a list - right\n",
        "def rotate_right (head):\n",
        "  last_node = head.next\n",
        "  second_last_node = head\n",
        "  while last_node.next != None:\n",
        "    last_node = last_node.next\n",
        "    second_last_node = second_last_node.next\n",
        "  last_node.next = head\n",
        "  second_last_node.next = None\n",
        "  head = last_node\n",
        "  return head"
      ],
      "metadata": {
        "id": "Y2v4ffiBWyiB"
      },
      "execution_count": null,
      "outputs": []
    },
    {
      "cell_type": "markdown",
      "source": [
        "# Quiz **1**"
      ],
      "metadata": {
        "id": "NXN5KrGEPlHX"
      }
    },
    {
      "cell_type": "code",
      "source": [
        "# Quiz 1 Question 1 Okay Done\n",
        "def removeElement(LinArr,size,idx):\n",
        "  for i in range(len(LinArr)):\n",
        "    if i == idx:\n",
        "      LinArr[i] = None\n",
        "  for i in range(idx + 1,len(LinArr)):\n",
        "    LinArr[i - 1] = LinArr[i]\n",
        "  return LinArr\n",
        "\n",
        "print(removeElement([7,12,1,2,3,5,None], 6, 1 ))\n",
        "print(removeElement([1,3,75,35,30,4, None], 7, 4))"
      ],
      "metadata": {
        "colab": {
          "base_uri": "https://localhost:8080/"
        },
        "id": "NAtEZHBGG36S",
        "outputId": "f172f54f-1b04-427f-f162-72ccd1fd793d"
      },
      "execution_count": null,
      "outputs": [
        {
          "output_type": "stream",
          "name": "stdout",
          "text": [
            "[7, 1, 2, 3, 5, None, None]\n",
            "[1, 3, 75, 35, 4, None, None]\n"
          ]
        }
      ]
    },
    {
      "cell_type": "code",
      "source": [
        "# Quiz 1 Question 2  ********* Didn't use Node class or linked list, why ???????\n",
        "class Node:\n",
        "  def __init__(self, e, n):\n",
        "    self.elem = e\n",
        "    self.next = n\n",
        "\n",
        "def increase( list ):\n",
        "  for i in range(len(list)):\n",
        "    list[i] = list[i] + 1\n",
        "  return list\n",
        "\n",
        "list = [2,6,4,8]\n",
        "print(increase(list))"
      ],
      "metadata": {
        "colab": {
          "base_uri": "https://localhost:8080/"
        },
        "id": "HUmca6IjNgHj",
        "outputId": "3372724d-0bdc-440e-b3da-2edb1d0945d7"
      },
      "execution_count": null,
      "outputs": [
        {
          "output_type": "stream",
          "name": "stdout",
          "text": [
            "[3, 7, 5, 9]\n"
          ]
        }
      ]
    },
    {
      "cell_type": "markdown",
      "source": [
        "# 22299543_Multi_Dim_Evaluation.ipynb"
      ],
      "metadata": {
        "id": "ctZFiWeUW1G_"
      }
    },
    {
      "cell_type": "code",
      "source": [
        "#You must run this cell to print matrix and for the driver code to work\n",
        "def print_matrix(m):\n",
        "  row,col = m.shape\n",
        "  for i in range(row):\n",
        "    c = 1\n",
        "    print('|', end='')\n",
        "    for j in range(col):\n",
        "      c += 1\n",
        "      if(len(str(m[i][j])) == 1):\n",
        "        print(' ',m[i][j], end = '  |')\n",
        "        c += 6\n",
        "      else:\n",
        "        print(' ',m[i][j], end = ' |')\n",
        "        c += 6\n",
        "    print()\n",
        "    print('-'*(c-col))"
      ],
      "metadata": {
        "id": "QTRLRYOlWQxP"
      },
      "execution_count": null,
      "outputs": []
    },
    {
      "cell_type": "code",
      "source": [
        "# Advance\n",
        "import numpy as np\n",
        "def flip_vertical(matrix):\n",
        "  rows, columns = matrix.shape\n",
        "  new_array = matrix[::-1, :]        #****Iteration****#\n",
        "  return new_array\n",
        "\n",
        "#Driver Code\n",
        "#DO NOT CHANGE ANYTHING BELOW\n",
        "print(\"=======TEST 1=======\")\n",
        "m = np.random.randint(15,size=(4,4)) #This creates an np array of 4 x 3 where the values are random numbers from [0,15) range\n",
        "print_matrix(m)\n",
        "print()\n",
        "print_matrix(flip_vertical(m))\n",
        "print()\n",
        "\n",
        "print(\"=========TEST 2=========\")\n",
        "m = np.random.randint(15,size=(5,5)) #This creates an np array of 5 x 4 where the values are random numbers from [0,15) range\n",
        "print_matrix(m)\n",
        "print()\n",
        "print_matrix(flip_vertical(m))"
      ],
      "metadata": {
        "colab": {
          "base_uri": "https://localhost:8080/"
        },
        "id": "l3U7rOtCWTsV",
        "outputId": "5922aac7-35bd-4ab3-dcc8-0076dffcc7cc"
      },
      "execution_count": null,
      "outputs": [
        {
          "output_type": "stream",
          "name": "stdout",
          "text": [
            "=======TEST 1=======\n",
            "|  13 |  10 |  11 |  2  |\n",
            "-------------------------\n",
            "|  4  |  11 |  12 |  2  |\n",
            "-------------------------\n",
            "|  2  |  5  |  9  |  11 |\n",
            "-------------------------\n",
            "|  2  |  6  |  8  |  4  |\n",
            "-------------------------\n",
            "\n",
            "|  2  |  6  |  8  |  4  |\n",
            "-------------------------\n",
            "|  2  |  5  |  9  |  11 |\n",
            "-------------------------\n",
            "|  4  |  11 |  12 |  2  |\n",
            "-------------------------\n",
            "|  13 |  10 |  11 |  2  |\n",
            "-------------------------\n",
            "\n",
            "=========TEST 2=========\n",
            "|  2  |  7  |  11 |  12 |  11 |\n",
            "-------------------------------\n",
            "|  12 |  0  |  2  |  11 |  14 |\n",
            "-------------------------------\n",
            "|  13 |  1  |  4  |  9  |  6  |\n",
            "-------------------------------\n",
            "|  0  |  10 |  0  |  1  |  5  |\n",
            "-------------------------------\n",
            "|  9  |  3  |  2  |  9  |  5  |\n",
            "-------------------------------\n",
            "\n",
            "|  9  |  3  |  2  |  9  |  5  |\n",
            "-------------------------------\n",
            "|  0  |  10 |  0  |  1  |  5  |\n",
            "-------------------------------\n",
            "|  13 |  1  |  4  |  9  |  6  |\n",
            "-------------------------------\n",
            "|  12 |  0  |  2  |  11 |  14 |\n",
            "-------------------------------\n",
            "|  2  |  7  |  11 |  12 |  11 |\n",
            "-------------------------------\n"
          ]
        }
      ]
    },
    {
      "cell_type": "code",
      "source": [
        "# Problem Solved by me:\n",
        "def flip_vertically(matrix):\n",
        "  rows, columns = matrix.shape\n",
        "  new_array = np.zeros((rows, columns))\n",
        "  for row in range(rows):\n",
        "    for column in range(columns - 1, -1, -1):\n",
        "      new_array[row][column] = matrix[row][column]\n",
        "  return new_array\n",
        "\n",
        "#Driver Code\n",
        "#DO NOT CHANGE ANYTHING BELOW\n",
        "print(\"=======TEST 1=======\")\n",
        "m = np.random.randint(15,size=(4,4)) #This creates an np array of 4 x 3 where the values are random numbers from [0,15) range\n",
        "print_matrix(m)\n",
        "print()\n",
        "print_matrix(flip_vertical(m))\n",
        "print()\n",
        "\n",
        "print(\"=========TEST 2=========\")\n",
        "m = np.random.randint(15,size=(5,5)) #This creates an np array of 5 x 4 where the values are random numbers from [0,15) range\n",
        "print_matrix(m)\n",
        "print()\n",
        "print_matrix(flip_vertical(m))"
      ],
      "metadata": {
        "colab": {
          "base_uri": "https://localhost:8080/"
        },
        "id": "Dn_Ff0v4ij-f",
        "outputId": "8d02e7dd-d184-4644-cb38-3a63cc98b929"
      },
      "execution_count": null,
      "outputs": [
        {
          "output_type": "stream",
          "name": "stdout",
          "text": [
            "=======TEST 1=======\n",
            "|  9  |  4  |  2  |  0  |\n",
            "-------------------------\n",
            "|  1  |  14 |  9  |  13 |\n",
            "-------------------------\n",
            "|  0  |  13 |  5  |  11 |\n",
            "-------------------------\n",
            "|  13 |  4  |  4  |  14 |\n",
            "-------------------------\n",
            "\n",
            "|  13 |  4  |  4  |  14 |\n",
            "-------------------------\n",
            "|  0  |  13 |  5  |  11 |\n",
            "-------------------------\n",
            "|  1  |  14 |  9  |  13 |\n",
            "-------------------------\n",
            "|  9  |  4  |  2  |  0  |\n",
            "-------------------------\n",
            "\n",
            "=========TEST 2=========\n",
            "|  9  |  8  |  5  |  7  |  7  |\n",
            "-------------------------------\n",
            "|  10 |  14 |  2  |  11 |  8  |\n",
            "-------------------------------\n",
            "|  4  |  9  |  8  |  2  |  5  |\n",
            "-------------------------------\n",
            "|  6  |  9  |  0  |  13 |  11 |\n",
            "-------------------------------\n",
            "|  6  |  3  |  5  |  2  |  11 |\n",
            "-------------------------------\n",
            "\n",
            "|  6  |  3  |  5  |  2  |  11 |\n",
            "-------------------------------\n",
            "|  6  |  9  |  0  |  13 |  11 |\n",
            "-------------------------------\n",
            "|  4  |  9  |  8  |  2  |  5  |\n",
            "-------------------------------\n",
            "|  10 |  14 |  2  |  11 |  8  |\n",
            "-------------------------------\n",
            "|  9  |  8  |  5  |  7  |  7  |\n",
            "-------------------------------\n"
          ]
        }
      ]
    },
    {
      "cell_type": "code",
      "source": [
        "# Flip upside down:\n",
        "def flip_vertically(array):\n",
        "  new_array = []\n",
        "  for i in range(len(array)-1, -1, -1):\n",
        "    new_row = []\n",
        "    for j in range(len(array[0])):\n",
        "      new_row.append(array[i][j])\n",
        "    new_array.append(new_row)\n",
        "    arr = np.array(new_array)\n",
        "  return arr\n",
        "\n",
        "array = [[8, 10, 2], [3, 14, 14], [0, 4, 7], [10, 10, 0]]\n",
        "new_array = flip_vertically(array)\n",
        "print(new_array)"
      ],
      "metadata": {
        "colab": {
          "base_uri": "https://localhost:8080/"
        },
        "id": "LH0l07iGbZ7o",
        "outputId": "24057194-ee0d-4c8b-cbfd-9cfd0648cb3d"
      },
      "execution_count": null,
      "outputs": [
        {
          "output_type": "stream",
          "name": "stdout",
          "text": [
            "[[10 10  0]\n",
            " [ 0  4  7]\n",
            " [ 3 14 14]\n",
            " [ 8 10  2]]\n"
          ]
        }
      ]
    },
    {
      "cell_type": "code",
      "source": [
        "# Flip by side:\n",
        "def flip_array(array):\n",
        "  new_array = []\n",
        "  for row in array:\n",
        "    new_row = row[::-1]\n",
        "    new_array.append(new_row)\n",
        "  return new_array\n",
        "if __name__ == \"__main__\":\n",
        "  # Create a 2D array.\n",
        "  array = [[8, 10, 2], [3, 14, 14], [0, 4, 7], [10, 10, 0]]\n",
        "\n",
        "  # Flip the array vertically.\n",
        "  new_array = flip_array(array)\n",
        "\n",
        "  # Print the new array.\n",
        "  for row in new_array:\n",
        "    print(row)"
      ],
      "metadata": {
        "colab": {
          "base_uri": "https://localhost:8080/"
        },
        "id": "DWxahkOicOwJ",
        "outputId": "b68a7ea5-f660-4267-c709-ccda7820e19f"
      },
      "execution_count": null,
      "outputs": [
        {
          "output_type": "stream",
          "name": "stdout",
          "text": [
            "[2, 10, 8]\n",
            "[14, 14, 3]\n",
            "[7, 4, 0]\n",
            "[0, 10, 10]\n"
          ]
        }
      ]
    },
    {
      "cell_type": "markdown",
      "source": [
        "# Extra Task of Lab 3"
      ],
      "metadata": {
        "id": "NSHcKwsWMsza"
      }
    },
    {
      "cell_type": "code",
      "source": [
        "class Node:\n",
        "  def __init__(self,elem,next = None):\n",
        "    self.elem, self.next = elem,next"
      ],
      "metadata": {
        "id": "52fStwNvo0G-"
      },
      "execution_count": null,
      "outputs": []
    },
    {
      "cell_type": "code",
      "source": [
        "class LinkedList:\n",
        "  def __init__(self,arr):\n",
        "    self.head = Node(arr[0])\n",
        "    tail = self.head\n",
        "    for i in range(1,len(arr)):\n",
        "      newNode = Node(arr[i])\n",
        "      tail.next = newNode\n",
        "      tail = newNode\n",
        "\n",
        "  def printLinkedList(self):\n",
        "    temp = self.head\n",
        "    while temp != None:\n",
        "      if temp.next != None:\n",
        "        print(temp.elem, end = '-->')\n",
        "      else:\n",
        "        print(temp.elem)\n",
        "      temp = temp.next\n",
        "\n",
        "  def countNodes(self):\n",
        "    count = 0\n",
        "    temp = self.head\n",
        "    while temp != None:\n",
        "      count += 1\n",
        "      temp = temp.next\n",
        "    return count\n",
        "\n",
        "  def nodeAt(self, idx):\n",
        "    count = 0\n",
        "    temp = self.head\n",
        "    obj = None\n",
        "    while temp != None:\n",
        "      if count == idx:\n",
        "        obj = temp\n",
        "        break\n",
        "      temp = temp.next\n",
        "      count += 1\n",
        "    if obj == None:\n",
        "      print(\"Invalid index\")\n",
        "    return obj\n",
        "\n",
        "\n",
        "  def elemAt(self,idx):\n",
        "    count = 0\n",
        "    temp = self.head\n",
        "    obj = None\n",
        "    while temp != None:\n",
        "      if count == idx:\n",
        "        obj = temp. elem\n",
        "        break\n",
        "      temp = temp.next\n",
        "      count += 1\n",
        "    if obj == None:\n",
        "      print(\"Invalid index\")\n",
        "    return obj\n",
        "\n",
        "  def indexOf(self,value):\n",
        "    temp = self.head\n",
        "    count = 0\n",
        "    while temp != None:\n",
        "      if value == temp.elem:\n",
        "        return count\n",
        "      count += 1\n",
        "      temp = temp.next\n",
        "    return \"Unknown\"\n",
        "\n",
        "  def contains(self, value):\n",
        "    temp = self.head\n",
        "    flag = False\n",
        "    while temp != None:\n",
        "      if value == temp.elem:\n",
        "        flag = True\n",
        "        return flag\n",
        "      temp = temp.next\n",
        "    return flag\n",
        "\n",
        "  def insert(self, value, idx): #Done for students\n",
        "    newNode = Node(value)\n",
        "    if idx == 0:\n",
        "      newNode.next = self.head\n",
        "      self.head = newNode\n",
        "    else:\n",
        "      prev = self.nodeAt(idx-1)\n",
        "      if prev != None:\n",
        "        newNode.next = prev.next\n",
        "        prev.next = newNode\n",
        "\n",
        "  def remove(self, idx):\n",
        "    if idx == 0:\n",
        "      self.head = self.head.next\n",
        "    elif idx >= 1 and idx < self.countNodes():\n",
        "      n1 = self.nodeAt(idx - 1)\n",
        "      removed_node = n1.next\n",
        "      n1.next = removed_node.next\n",
        "    else:\n",
        "      print(\"Invalid Index\")\n",
        "\n",
        "  def rotateRight(self):                  # -2 Was vanished from output. Why????\n",
        "    last_node = self.head.next\n",
        "    second_last_node = self.head\n",
        "    while last_node.next != None:\n",
        "      last_node = last_node.next\n",
        "      second_last_node = second_last_node.next\n",
        "    last_node.next = self.head\n",
        "    second_last_node.next = None\n",
        "    head = last_node\n",
        "    return head\n",
        "\n",
        "  def rotateLeft(self):\n",
        "    new_head = self.head.next\n",
        "    temp = new_head\n",
        "    while temp.next != None:\n",
        "      temp = temp.next\n",
        "    temp.next = self.head\n",
        "    self.head.next = None\n",
        "    self.head = new_head  # Update the head attribute\n",
        "    return self.head\n",
        "\n",
        "print('Create Linked List')\n",
        "l1 = LinkedList(np.array([10,34,21,6,-2]))\n",
        "l1.printLinkedList()\n",
        "print()\n",
        "\n",
        "print('Count Nodes of Linked List')\n",
        "print(l1.countNodes())\n",
        "print()\n",
        "\n",
        "print('Find out the node at a certain index')\n",
        "n = l1.nodeAt(3)\n",
        "print('Node at index 3:', end = ' ')\n",
        "print(n.elem if n!=None else 'Invalid Index')\n",
        "print('Corner Cases:')\n",
        "print('Node at index -1:', end = ' ')\n",
        "n = l1.nodeAt(-1)\n",
        "print(n.elem if n!=None else 'Invalid Index')\n",
        "print('Node at index 5:', end = ' ')\n",
        "n = l1.nodeAt(5)\n",
        "print(n.elem if n!=None else 'Invalid Index')\n",
        "print()\n",
        "\n",
        "print('Find out the element at a certain index')\n",
        "print('Element at index 1:', end = ' ')\n",
        "print(l1.elemAt(1))\n",
        "print('Corner Cases:')\n",
        "print('Element at index -2:', end = ' ')\n",
        "print(l1.elemAt(-2))\n",
        "print('Element at index 6:', end = ' ')\n",
        "print(l1.elemAt(6))\n",
        "print()\n",
        "\n",
        "print('Find out the index of an element')\n",
        "print('Index of element -2 is', end = ' ')\n",
        "print(l1.indexOf(-2))\n",
        "print('Corner Cases:')\n",
        "print('Index of element 23 is', end = ' ')\n",
        "print(l1.indexOf(23))\n",
        "print()\n",
        "\n",
        "print('Find out the if linked list contains an element')\n",
        "print('Linked List contains -2:', end = ' ')\n",
        "print(l1.contains(-2))\n",
        "print('Corner Cases:')\n",
        "print('Linked List contains 3:', end = ' ')\n",
        "print(l1.contains(3))\n",
        "print()\n",
        "\n",
        "print('Insert element in certain index')\n",
        "print('Insert 41 at index 2:', end = ' ')\n",
        "l1.insert(41,2)\n",
        "l1.printLinkedList()\n",
        "print('Corner Cases:')\n",
        "print('Insert 25 at index 0:', end = ' ')\n",
        "l1.insert(25,0)\n",
        "l1.printLinkedList()\n",
        "print('Insert 15 at index 7:', end = ' ')\n",
        "l1.insert(15,7)\n",
        "l1.printLinkedList()\n",
        "print('Insert 27 at index -1:', end = ' ')\n",
        "l1.insert(27,-1)\n",
        "l1.printLinkedList()\n",
        "print()\n",
        "\n",
        "print('Delete node from a certain index')\n",
        "print('Delete from index 5:', end = ' ')\n",
        "l1.remove(5)\n",
        "l1.printLinkedList()\n",
        "print('Corner Cases:')\n",
        "print('Delete from index 0:', end = ' ')\n",
        "l1.remove(0)\n",
        "l1.printLinkedList()\n",
        "print('Delete from index 5:', end = ' ')\n",
        "l1.remove(5)\n",
        "l1.printLinkedList()\n",
        "print('Delete from index -1:', end = ' ')\n",
        "l1.remove(-1)\n",
        "l1.printLinkedList()\n",
        "print()\n",
        "\n",
        "print('Right Rotate')\n",
        "l1.printLinkedList()\n",
        "print()\n",
        "l1.rotateRight()\n",
        "l1.printLinkedList()\n",
        "print()\n",
        "\n",
        "print('Left Rotate')\n",
        "l1.printLinkedList()\n",
        "print()\n",
        "l1.rotateLeft()\n",
        "l1.printLinkedList()\n",
        "print()"
      ],
      "metadata": {
        "id": "r28Xi2Bno37t",
        "colab": {
          "base_uri": "https://localhost:8080/"
        },
        "outputId": "df273583-ef48-48ba-bc02-269a3f39ca36"
      },
      "execution_count": null,
      "outputs": [
        {
          "output_type": "stream",
          "name": "stdout",
          "text": [
            "Create Linked List\n",
            "10-->34-->21-->6-->-2\n",
            "\n",
            "Count Nodes of Linked List\n",
            "5\n",
            "\n",
            "Find out the node at a certain index\n",
            "Node at index 3: 6\n",
            "Corner Cases:\n",
            "Node at index -1: Invalid index\n",
            "Invalid Index\n",
            "Node at index 5: Invalid index\n",
            "Invalid Index\n",
            "\n",
            "Find out the element at a certain index\n",
            "Element at index 1: 34\n",
            "Corner Cases:\n",
            "Element at index -2: Invalid index\n",
            "None\n",
            "Element at index 6: Invalid index\n",
            "None\n",
            "\n",
            "Find out the index of an element\n",
            "Index of element -2 is 4\n",
            "Corner Cases:\n",
            "Index of element 23 is Unknown\n",
            "\n",
            "Find out the if linked list contains an element\n",
            "Linked List contains -2: True\n",
            "Corner Cases:\n",
            "Linked List contains 3: False\n",
            "\n",
            "Insert element in certain index\n",
            "Insert 41 at index 2: 10-->34-->41-->21-->6-->-2\n",
            "Corner Cases:\n",
            "Insert 25 at index 0: 25-->10-->34-->41-->21-->6-->-2\n",
            "Insert 15 at index 7: 25-->10-->34-->41-->21-->6-->-2-->15\n",
            "Insert 27 at index -1: Invalid index\n",
            "25-->10-->34-->41-->21-->6-->-2-->15\n",
            "\n",
            "Delete node from a certain index\n",
            "Delete from index 5: 25-->10-->34-->41-->21-->-2-->15\n",
            "Corner Cases:\n",
            "Delete from index 0: 10-->34-->41-->21-->-2-->15\n",
            "Delete from index 5: 10-->34-->41-->21-->-2\n",
            "Delete from index -1: Invalid Index\n",
            "10-->34-->41-->21-->-2\n",
            "\n",
            "Right Rotate\n",
            "10-->34-->41-->21-->-2\n",
            "\n",
            "10-->34-->41-->21\n",
            "\n",
            "Left Rotate\n",
            "10-->34-->41-->21\n",
            "\n",
            "34-->41-->21-->10\n",
            "\n"
          ]
        }
      ]
    },
    {
      "cell_type": "markdown",
      "source": [
        "# Linked List Circle and Dummy/ Non-Dummy"
      ],
      "metadata": {
        "id": "pqx1x7yDJYWt"
      }
    },
    {
      "cell_type": "code",
      "source": [
        "class DoublyNode:\n",
        "\tdef __init__(self, elem, next, prev):\n",
        "\t\tself.elem = elem\n",
        "\t\tself.next = next # To store the next node’s reference.\n",
        "\t\tself.prev = prev # To store the previous node’s reference."
      ],
      "metadata": {
        "id": "AtqkSdiDJxSM"
      },
      "execution_count": null,
      "outputs": []
    },
    {
      "cell_type": "code",
      "source": [
        "def createList(a):\n",
        "  dh = DoublyNode (None, None, None)\n",
        "  dh.next = dh\n",
        "  dh.prev = dh\n",
        "  tail = dh\n",
        "  for i in range(len(a)):\n",
        "    n = DoublyNode(a[1], dh, tail)  # (elem, prev, next)\n",
        "    tail.next = n\n",
        "    tail = tail.next\n",
        "    dh.prev = tail\n",
        "  return dh"
      ],
      "metadata": {
        "id": "RtwuYbjiK4N-"
      },
      "execution_count": null,
      "outputs": []
    },
    {
      "cell_type": "code",
      "source": [
        "def iteration (dh):\n",
        "  temp = dh.next\n",
        "  while temp != dh:\n",
        "     print(temp.elem)\n",
        "     temp = temp.next"
      ],
      "metadata": {
        "id": "IvGySnZbQcfy"
      },
      "execution_count": null,
      "outputs": []
    },
    {
      "cell_type": "code",
      "source": [
        "# Different way\n",
        "class Node:\n",
        "    def __init__(self, elem):\n",
        "        self.elem = elem\n",
        "        self.next = None\n",
        "\n",
        "def iteration(head):\n",
        "    temp = head\n",
        "    while temp is not None:\n",
        "        print(temp.elem)\n",
        "        temp = temp.next\n",
        "\n",
        "array = [10, 34, 21, 6, -2]\n",
        "head = Node(array[0])\n",
        "for elem in array[1:]:\n",
        "    node = Node(elem)\n",
        "    node.next = head\n",
        "    head = node\n",
        "\n",
        "iteration(head)"
      ],
      "metadata": {
        "colab": {
          "base_uri": "https://localhost:8080/"
        },
        "id": "BrLh-c0sQPQB",
        "outputId": "73752d11-c7f7-4424-eee0-bdd64e1af2ce"
      },
      "execution_count": null,
      "outputs": [
        {
          "output_type": "stream",
          "name": "stdout",
          "text": [
            "-2\n",
            "6\n",
            "21\n",
            "34\n",
            "10\n"
          ]
        }
      ]
    },
    {
      "cell_type": "code",
      "source": [
        "def nodeAt (dh, idx):\n",
        "  temp = dh.next\n",
        "  C = 0\n",
        "  while temp != dh:\n",
        "    if c == idx:\n",
        "      return temp\n",
        "    C += 1\n",
        "    temp = temp.next\n",
        "  return None # Invalid Index"
      ],
      "metadata": {
        "id": "5ubSkqZ5RH5E"
      },
      "execution_count": null,
      "outputs": []
    },
    {
      "cell_type": "code",
      "source": [
        "def insertion(dh, elem, idx):\n",
        "  # Assuming the index is valid\n",
        "  node_to_insert = DoublyNode(elem, None, None)\n",
        "  indexed_node = nodeAt(dh, idx) # Retriving the node at the Index\n",
        "  prev_node = indexed_node.prev # There will always be a previous node\n",
        "  # Change the connection\n",
        "  # Observe that no special case is needed\n",
        "  node_to_insert.next = indexed_node\n",
        "  node_to_insert.prev = prev_node\n",
        "  prev_node.next = node_to_insert\n",
        "  indexed_node.prev = node_to_insert"
      ],
      "metadata": {
        "id": "uORdVGTLSnWF"
      },
      "execution_count": null,
      "outputs": []
    },
    {
      "cell_type": "code",
      "source": [
        "  def removal (dh, idx):\n",
        "    # Assuming the idx is valid\n",
        "    node_to_remove = nodeAt(dh, idx)\n",
        "    prev_node = node_to_remove.prev\n",
        "    next_node = node_to_remove.next\n",
        "    # Change the connection\n",
        "    # No special case is needed\n",
        "    prev_node.next = next_node\n",
        "    next_node.prev = prev_node\n",
        "    node_to_remove.next = None\n",
        "    node_to_remove.prev = None\n",
        "    return node_to_remove.elem # Returning the removed element"
      ],
      "metadata": {
        "id": "SnME2rf4beiT"
      },
      "execution_count": null,
      "outputs": []
    },
    {
      "cell_type": "code",
      "source": [
        "def B():\n",
        "  print(\"B\")\n",
        "\n",
        "def A():\n",
        "  B()\n",
        "  print(\"A\")\n",
        "\n",
        "def main():\n",
        "  A()\n",
        "  print(\"Main\")\n",
        "\n",
        "if __name__ == \"__main__\":\n",
        "  main()"
      ],
      "metadata": {
        "colab": {
          "base_uri": "https://localhost:8080/"
        },
        "id": "5DbqWIiLcFzQ",
        "outputId": "ac536913-72c0-4029-9433-556bca2a06b5"
      },
      "execution_count": null,
      "outputs": [
        {
          "output_type": "stream",
          "name": "stdout",
          "text": [
            "B\n",
            "A\n",
            "Main\n"
          ]
        }
      ]
    },
    {
      "cell_type": "markdown",
      "source": [
        "# Extra Task of Lab"
      ],
      "metadata": {
        "id": "ewwITO0JqyoA"
      }
    },
    {
      "cell_type": "code",
      "source": [
        "import numpy as np"
      ],
      "metadata": {
        "id": "xSOyDGs_rBjq"
      },
      "execution_count": null,
      "outputs": []
    },
    {
      "cell_type": "code",
      "source": [
        "class Node:\n",
        "  def __init__(self, e, n, p):\n",
        "    self.element = e\n",
        "    self.next = n\n",
        "    self.prev = p"
      ],
      "metadata": {
        "id": "v-gKPLfTrEih"
      },
      "execution_count": null,
      "outputs": []
    },
    {
      "cell_type": "code",
      "source": [
        "class DoublyList:\n",
        "\n",
        "  # Creates a Dummy Head for Dummy Headed Circular Doubly Circular Linked List.\n",
        "  def __init__(self):\n",
        "    self.head = Node(None, None, None)  # Create the dummy head\n",
        "    self.head.next = self.head\n",
        "    self.head.prev = self.head\n",
        "\n",
        "\n",
        "  #create a DHDCL from an array\n",
        "  def create_list(self, l):\n",
        "    for elem in l:\n",
        "      self.insert(elem, self.countNode())\n",
        "\n",
        "\n",
        "  # Counts the number of Nodes in the list and return the number\n",
        "  def countNode(self):\n",
        "    count = 0\n",
        "    current = self.head.next\n",
        "    while current != self.head:\n",
        "      count += 1\n",
        "      current = current.next\n",
        "    return count\n",
        "\n",
        "\n",
        "  # prints the elements in the list forward\n",
        "  def forwardprint(self):\n",
        "    current = self.head.next\n",
        "    while current != self.head:\n",
        "      print(current.element, end=' ')\n",
        "      current = current.next\n",
        "    print()\n",
        "\n",
        "\n",
        "  # prints the elements in the list backward\n",
        "  def backwardprint(self):\n",
        "    current = self.head.prev\n",
        "    while current != self.head:\n",
        "      print(current.element, end=' ')\n",
        "      current = current.prev\n",
        "    print()\n",
        "\n",
        "\n",
        "  # returns the reference of the at the given index. For invalid index return None.\n",
        "  def nodeAt(self, idx):\n",
        "    if idx < 0 or idx >= self.countNode():  # Check for invalid index\n",
        "      return None\n",
        "    current = self.head.next\n",
        "    count = 0\n",
        "    while current != self.head:\n",
        "      if count == idx:\n",
        "        return current\n",
        "      count += 1\n",
        "      current = current.next\n",
        "    return None\n",
        "\n",
        "\n",
        "  # returns the index of the containing the given element. if the element does not exist in the List, return -1.\n",
        "  def indexOf(self, elem):\n",
        "    current = self.head.next\n",
        "    index = 0\n",
        "    while current != self.head:\n",
        "      if current.element == elem:\n",
        "        return index\n",
        "      current = current.next\n",
        "      index += 1\n",
        "    return -1\n",
        "\n",
        "\n",
        "\n",
        "  # insert at specific index of the DHDCL\n",
        "  def insert(self, elem, idx):\n",
        "    current = self.head.next\n",
        "    index = 0\n",
        "    while current != self.head:\n",
        "      if current.element == elem:\n",
        "        return index\n",
        "      current = current.next\n",
        "      index += 1\n",
        "    return -1\n",
        "\n",
        "\n",
        "  #removes the node of the specific index and returns the element of the node\n",
        "  def remove(self, idx):\n",
        "    if idx < 0 or idx >= self.countNode():  # Check for invalid index\n",
        "      print(\"Invalid index for removal.\")\n",
        "      return None\n",
        "    current = self.nodeAt(idx)\n",
        "    current.prev.next = current.next\n",
        "    current.next.prev = current.prev\n",
        "    return current.element"
      ],
      "metadata": {
        "id": "1n2O_7x7rJjY"
      },
      "execution_count": null,
      "outputs": []
    },
    {
      "cell_type": "code",
      "source": [
        "print(\"///  Test 01  ///\")\n",
        "h1 = DoublyList() # Creates a dummy headed doubly circular linked list\n",
        "h1.create_list(np.array([10,20,30,40]))\n",
        "print('Forward Print: ', end = ' ')\n",
        "h1.forwardprint() # This should print: 10,20,30,40.\n",
        "print('Backward Print: ', end = ' ')\n",
        "h1.backwardprint() # This should print: 40,30,20,10.\n",
        "print('Total Nodes: ', end = ' ')\n",
        "print(h1.countNode()) # This should print: 4\n",
        "print()\n",
        "\n",
        "print(\"///  Test 02  ///\")\n",
        "# returns the reference of the at the given index. For invalid idx return None.\n",
        "print('Node at 2nd index: ', end = ' ')\n",
        "n = h1.nodeAt(2)\n",
        "print(n.element if n!=None else 'Index Error')# This should print: 30.\n",
        "print('Node at 0th index: ', end = ' ')\n",
        "n = h1.nodeAt(0)\n",
        "print(n.element if n!=None else 'Index Error')# This should print: 10. IGNORE DUMMY HEAD\n",
        "print('Node at -1th index: ', end = ' ')\n",
        "n = h1.nodeAt(-1)\n",
        "print(n.element if n!=None else 'Index Error')# This should print \"index error\"\n",
        "print()\n",
        "\n",
        "print(\"///  Test 03  ///\")\n",
        "print('Index of element 40:', end = ' ')\n",
        "# returns the index of the containing the given element. if the element does not exist in the List, return -1.\n",
        "index = h1.indexOf(40)\n",
        "print(index) # This should print: 3. In case of element that\n",
        "print('Index of element 6:', end = ' ')\n",
        "index = h1.indexOf(6)\n",
        "print(index) # doesn't exists in the list this will print -1.\n",
        "print()\n",
        "\n",
        "print(\"///  Test 04  ///\")\n",
        "print('Inserting 85 in 0th index')\n",
        "h1.insert(85,0)\n",
        "print('Forward Print: ', end = ' ')\n",
        "h1.forwardprint() # This should print: 85,10,20,30,40.\n",
        "print('Backward Print: ', end = ' ')\n",
        "h1.backwardprint() # This should print: 40,30,20,10,85.\n",
        "\n",
        "print()\n",
        "print('Inserting 95 in 3rd index')\n",
        "h1.insert(95,3)\n",
        "print('Forward Print: ', end = ' ')\n",
        "h1.forwardprint() # This should print: 85,10,20,95,30,40.\n",
        "print('Backward Print: ', end = ' ')\n",
        "h1.backwardprint() # This should print: 40,30,95,20,10,85.\n",
        "\n",
        "print()\n",
        "print('Inserting 75 in 6th index')\n",
        "h1.insert(75,6)\n",
        "print('Forward Print: ', end = ' ')\n",
        "h1.forwardprint() # This should print: 85,10,20,95,30,40,75.\n",
        "print('Backward Print: ', end = ' ')\n",
        "h1.backwardprint() # This should print: 75,40,30,95,20,10,85.\n",
        "print()\n",
        "\n",
        "\n",
        "print(\"///  Test 05  ///\")\n",
        "h2 = DoublyList() # uses the constructor\n",
        "h2.create_list(np.array([10, 20, 30, 40, 50, 60, 70]))\n",
        "print('Forward Print: ', end = ' ')\n",
        "h2.forwardprint() # This should print: 10,20,30,40,50,60,70.\n",
        "print()\n",
        "\n",
        "print('Removing node from 0th index')\n",
        "print(\"Removed element: \"+ str(h2.remove(0))) # This should print: Removed element: 10\n",
        "print('Forward Print: ', end = ' ')\n",
        "h2.forwardprint() # This should print: 20,30,40,50,60,70.\n",
        "print('Backward Print: ', end = ' ')\n",
        "h2.backwardprint() # This should print: 70,60,50,40,30,20.\n",
        "print()\n",
        "\n",
        "print('Removing node from 3rd index')\n",
        "print(\"Removed element: \"+ str(h2.remove(3))) # This should print: Removed element: 50\n",
        "print('Forward Print: ', end = ' ')\n",
        "h2.forwardprint() # This should print: 20,30,40,60,70.\n",
        "print('Backward Print: ', end = ' ')\n",
        "h2.backwardprint() # This should print: 70,60,40,30,20.\n",
        "print()\n",
        "\n",
        "print('Removing node from 4th index')\n",
        "print(\"Removed element: \"+ str(h2.remove(4))) # This should print: Removed element: 70\n",
        "print('Forward Print: ', end = ' ')\n",
        "h2.forwardprint() # This should print: 20,30,40,60.\n",
        "print('Backward Print: ', end = ' ')\n",
        "h2.backwardprint() # This should print: 60,40,30,20.\n",
        "print()"
      ],
      "metadata": {
        "id": "79xoEUi8rMu5",
        "colab": {
          "base_uri": "https://localhost:8080/"
        },
        "outputId": "5a65d0c3-442c-40d0-a755-bdb9a1d20077"
      },
      "execution_count": null,
      "outputs": [
        {
          "output_type": "stream",
          "name": "stdout",
          "text": [
            "///  Test 01  ///\n",
            "Forward Print:  \n",
            "Backward Print:  \n",
            "Total Nodes:  0\n",
            "\n",
            "///  Test 02  ///\n",
            "Node at 2nd index:  Index Error\n",
            "Node at 0th index:  Index Error\n",
            "Node at -1th index:  Index Error\n",
            "\n",
            "///  Test 03  ///\n",
            "Index of element 40: -1\n",
            "Index of element 6: -1\n",
            "\n",
            "///  Test 04  ///\n",
            "Inserting 85 in 0th index\n",
            "Forward Print:  \n",
            "Backward Print:  \n",
            "\n",
            "Inserting 95 in 3rd index\n",
            "Forward Print:  \n",
            "Backward Print:  \n",
            "\n",
            "Inserting 75 in 6th index\n",
            "Forward Print:  \n",
            "Backward Print:  \n",
            "\n",
            "///  Test 05  ///\n",
            "Forward Print:  \n",
            "\n",
            "Removing node from 0th index\n",
            "Invalid index for removal.\n",
            "Removed element: None\n",
            "Forward Print:  \n",
            "Backward Print:  \n",
            "\n",
            "Removing node from 3rd index\n",
            "Invalid index for removal.\n",
            "Removed element: None\n",
            "Forward Print:  \n",
            "Backward Print:  \n",
            "\n",
            "Removing node from 4th index\n",
            "Invalid index for removal.\n",
            "Removed element: None\n",
            "Forward Print:  \n",
            "Backward Print:  \n",
            "\n"
          ]
        }
      ]
    },
    {
      "cell_type": "code",
      "source": [
        "# OUTPUT\n",
        "import numpy as np\n",
        "class Node:\n",
        "  def __init__(self, e, n, p):\n",
        "    self.element = e\n",
        "    self.next = n\n",
        "    self.prev = p\n",
        "\n",
        "class DoublyList:\n",
        "\n",
        "  # Creates a Dummy Head for Dummy Headed Circular Doubly Circular Linked List.\n",
        "  def __init__(self):\n",
        "    self.head = Node(None, None, None)  # Create the dummy head\n",
        "    self.head.next = self.head  # Point the next of dummy head to itself to create an empty circular list\n",
        "    self.head.prev = self.head  # Point the prev of dummy head to itself to create an empty circular list\n",
        "\n",
        "  # Create a DHDCL from an array\n",
        "  def create_list(self, l):\n",
        "    for elem in l:\n",
        "      self.insert(elem, self.countNode())  # Insert each element at the end of the list\n",
        "\n",
        "  # Counts the number of Nodes in the list and return the number\n",
        "  def countNode(self):\n",
        "    count = 0\n",
        "    current = self.head.next\n",
        "    while current != self.head:\n",
        "      count += 1\n",
        "      current = current.next\n",
        "    return count\n",
        "\n",
        "  # Prints the elements in the list forward\n",
        "  def forwardprint(self):\n",
        "    current = self.head.next\n",
        "    while current != self.head:\n",
        "      print(current.element, end=' ')\n",
        "      current = current.next\n",
        "    print()\n",
        "\n",
        "  # Prints the elements in the list backward\n",
        "  def backwardprint(self):\n",
        "    current = self.head.prev\n",
        "    while current != self.head:\n",
        "      print(current.element, end=' ')\n",
        "      current = current.prev\n",
        "    print()\n",
        "\n",
        "  # Returns the reference of the node at the given index. For an invalid index, return None.\n",
        "  def nodeAt(self, idx):\n",
        "    if idx < 0 or idx >= self.countNode():  # Check for invalid index\n",
        "      return None\n",
        "    current = self.head.next\n",
        "    count = 0\n",
        "    while current != self.head:\n",
        "      if count == idx:\n",
        "        return current\n",
        "      count += 1\n",
        "      current = current.next\n",
        "    return None\n",
        "\n",
        "  # Returns the index of the node containing the given element. If the element does not exist in the List, return -1.\n",
        "  def indexOf(self, elem):\n",
        "    current = self.head.next\n",
        "    index = 0\n",
        "    while current != self.head:\n",
        "      if current.element == elem:\n",
        "        return index\n",
        "      current = current.next\n",
        "      index += 1\n",
        "    return -1\n",
        "\n",
        "  # Insert at a specific index of the DHDCL\n",
        "  def insert(self, elem, idx):\n",
        "    if idx < 0 or idx > self.countNode():  # Check for invalid index\n",
        "      print(\"Invalid index for insertion.\")\n",
        "      return\n",
        "\n",
        "    new_node = Node(elem, None, None)\n",
        "\n",
        "    # If inserting at the end or when the list is empty\n",
        "    if idx == self.countNode():\n",
        "      new_node.next = self.head\n",
        "      new_node.prev = self.head.prev\n",
        "      self.head.prev.next = new_node\n",
        "      self.head.prev = new_node\n",
        "    else:\n",
        "      current = self.nodeAt(idx)\n",
        "      new_node.next = current\n",
        "      new_node.prev = current.prev\n",
        "      current.prev.next = new_node\n",
        "      current.prev = new_node\n",
        "\n",
        "  # Removes the node of the specific index and returns the element of the node\n",
        "  def remove(self, idx):\n",
        "    if idx < 0 or idx >= self.countNode():  # Check for invalid index\n",
        "      print(\"Invalid index for removal.\")\n",
        "      return None\n",
        "    current = self.nodeAt(idx)\n",
        "    current.prev.next = current.next\n",
        "    current.next.prev = current.prev\n",
        "    return current.element\n",
        "\n",
        "print(\"///  Test 01  ///\")\n",
        "h1 = DoublyList()  # Creates a dummy-headed doubly circular linked list\n",
        "h1.create_list(np.array([10, 20, 30, 40]))\n",
        "print('Forward Print: ', end=' ')\n",
        "h1.forwardprint()  # This should print: 10,20,30,40.\n",
        "print('Backward Print: ', end=' ')\n",
        "h1.backwardprint()  # This should print: 40,30,20,10.\n",
        "print('Total Nodes: ', end=' ')\n",
        "print(h1.countNode())  # This should print: 4\n",
        "print()\n",
        "\n",
        "print(\"///  Test 02  ///\")\n",
        "# returns the reference of the at the given index. For invalid idx return None.\n",
        "print('Node at 2nd index: ', end = ' ')\n",
        "n = h1.nodeAt(2)\n",
        "print(n.element if n!=None else 'Index Error')# This should print: 30.\n",
        "print('Node at 0th index: ', end = ' ')\n",
        "n = h1.nodeAt(0)\n",
        "print(n.element if n!=None else 'Index Error')# This should print: 10. IGNORE DUMMY HEAD\n",
        "print('Node at -1th index: ', end = ' ')\n",
        "n = h1.nodeAt(-1)\n",
        "print(n.element if n!=None else 'Index Error')# This should print \"index error\"\n",
        "print()\n",
        "\n",
        "print(\"///  Test 03  ///\")\n",
        "print('Index of element 40:', end = ' ')\n",
        "# returns the index of the containing the given element. if the element does not exist in the List, return -1.\n",
        "index = h1.indexOf(40)\n",
        "print(index) # This should print: 3. In case of element that\n",
        "print('Index of element 6:', end = ' ')\n",
        "index = h1.indexOf(6)\n",
        "print(index) # doesn't exists in the list this will print -1.\n",
        "print()\n",
        "\n",
        "print(\"///  Test 04  ///\")\n",
        "print('Inserting 85 in 0th index')\n",
        "h1.insert(85,0)\n",
        "print('Forward Print: ', end = ' ')\n",
        "h1.forwardprint() # This should print: 85,10,20,30,40.\n",
        "print('Backward Print: ', end = ' ')\n",
        "h1.backwardprint() # This should print: 40,30,20,10,85.\n",
        "\n",
        "print()\n",
        "print('Inserting 95 in 3rd index')\n",
        "h1.insert(95,3)\n",
        "print('Forward Print: ', end = ' ')\n",
        "h1.forwardprint() # This should print: 85,10,20,95,30,40.\n",
        "print('Backward Print: ', end = ' ')\n",
        "h1.backwardprint() # This should print: 40,30,95,20,10,85.\n",
        "\n",
        "print()\n",
        "print('Inserting 75 in 6th index')\n",
        "h1.insert(75,6)\n",
        "print('Forward Print: ', end = ' ')\n",
        "h1.forwardprint() # This should print: 85,10,20,95,30,40,75.\n",
        "print('Backward Print: ', end = ' ')\n",
        "h1.backwardprint() # This should print: 75,40,30,95,20,10,85.\n",
        "print()\n",
        "\n",
        "\n",
        "print(\"///  Test 05  ///\")\n",
        "h2 = DoublyList() # uses the constructor\n",
        "h2.create_list(np.array([10, 20, 30, 40, 50, 60, 70]))\n",
        "print('Forward Print: ', end = ' ')\n",
        "h2.forwardprint() # This should print: 10,20,30,40,50,60,70.\n",
        "print()\n",
        "\n",
        "print('Removing node from 0th index')\n",
        "print(\"Removed element: \"+ str(h2.remove(0))) # This should print: Removed element: 10\n",
        "print('Forward Print: ', end = ' ')\n",
        "h2.forwardprint() # This should print: 20,30,40,50,60,70.\n",
        "print('Backward Print: ', end = ' ')\n",
        "h2.backwardprint() # This should print: 70,60,50,40,30,20.\n",
        "print()\n",
        "\n",
        "print('Removing node from 3rd index')\n",
        "print(\"Removed element: \"+ str(h2.remove(3))) # This should print: Removed element: 50\n",
        "print('Forward Print: ', end = ' ')\n",
        "h2.forwardprint() # This should print: 20,30,40,60,70.\n",
        "print('Backward Print: ', end = ' ')\n",
        "h2.backwardprint() # This should print: 70,60,40,30,20.\n",
        "print()\n",
        "\n",
        "print('Removing node from 4th index')\n",
        "print(\"Removed element: \"+ str(h2.remove(4))) # This should print: Removed element: 70\n",
        "print('Forward Print: ', end = ' ')\n",
        "h2.forwardprint() # This should print: 20,30,40,60.\n",
        "print('Backward Print: ', end = ' ')\n",
        "h2.backwardprint() # This should print: 60,40,30,20.\n",
        "print()\n"
      ],
      "metadata": {
        "colab": {
          "base_uri": "https://localhost:8080/"
        },
        "id": "zTDOd7X5Pr4U",
        "outputId": "4de9ddd3-337b-43d9-a0a7-94ab0cbe8592"
      },
      "execution_count": null,
      "outputs": [
        {
          "output_type": "stream",
          "name": "stdout",
          "text": [
            "///  Test 01  ///\n",
            "Forward Print:  10 20 30 40 \n",
            "Backward Print:  40 30 20 10 \n",
            "Total Nodes:  4\n",
            "\n",
            "///  Test 02  ///\n",
            "Node at 2nd index:  30\n",
            "Node at 0th index:  10\n",
            "Node at -1th index:  Index Error\n",
            "\n",
            "///  Test 03  ///\n",
            "Index of element 40: 3\n",
            "Index of element 6: -1\n",
            "\n",
            "///  Test 04  ///\n",
            "Inserting 85 in 0th index\n",
            "Forward Print:  85 10 20 30 40 \n",
            "Backward Print:  40 30 20 10 85 \n",
            "\n",
            "Inserting 95 in 3rd index\n",
            "Forward Print:  85 10 20 95 30 40 \n",
            "Backward Print:  40 30 95 20 10 85 \n",
            "\n",
            "Inserting 75 in 6th index\n",
            "Forward Print:  85 10 20 95 30 40 75 \n",
            "Backward Print:  75 40 30 95 20 10 85 \n",
            "\n",
            "///  Test 05  ///\n",
            "Forward Print:  10 20 30 40 50 60 70 \n",
            "\n",
            "Removing node from 0th index\n",
            "Removed element: 10\n",
            "Forward Print:  20 30 40 50 60 70 \n",
            "Backward Print:  70 60 50 40 30 20 \n",
            "\n",
            "Removing node from 3rd index\n",
            "Removed element: 50\n",
            "Forward Print:  20 30 40 60 70 \n",
            "Backward Print:  70 60 40 30 20 \n",
            "\n",
            "Removing node from 4th index\n",
            "Removed element: 70\n",
            "Forward Print:  20 30 40 60 \n",
            "Backward Print:  60 40 30 20 \n",
            "\n"
          ]
        }
      ]
    },
    {
      "cell_type": "markdown",
      "source": [
        "# Stack Implementation"
      ],
      "metadata": {
        "id": "BC25TzrBhpcP"
      }
    },
    {
      "cell_type": "code",
      "source": [
        "class Stack:\n",
        "  def _init_(self):\n",
        "    self.top = None\n",
        "\n",
        "  def push(self,elem):\n",
        "    if self.top == None: #Stack is empty\n",
        "      self.top = Node(elem, None)\n",
        "    else:\n",
        "      newNode = Node (elem, None)\n",
        "      newNode.next = self.top\n",
        "      self.top = newNode\n",
        "\n",
        "  def pop(self):\n",
        "    if self.top == None:\n",
        "      return None #Stack Underflow\n",
        "    else:\n",
        "      popped = self.top\n",
        "      self.top  = self.top.next\n",
        "      popped.next = None\n",
        "      return popped.element\n",
        "\n",
        "  def peek(self):\n",
        "    if self.top == None:\n",
        "      return None #Stack Underflow\n",
        "    else:\n",
        "      return self.top.element\n",
        "\n",
        "  def Is_Empty(self):\n",
        "    if self.top == None:\n",
        "      return \"Stack is Empty\""
      ],
      "metadata": {
        "id": "E-tAL2gLhuRC"
      },
      "execution_count": null,
      "outputs": []
    },
    {
      "cell_type": "markdown",
      "source": [
        "## Queue Implementation by List"
      ],
      "metadata": {
        "id": "t7ik8uw5jAQE"
      }
    },
    {
      "cell_type": "code",
      "source": [
        "class Node:\n",
        "  def __init__(self, elem, next):\n",
        "    self.elem = elem\n",
        "    self.next = next"
      ],
      "metadata": {
        "id": "sURmoapEjGu9"
      },
      "execution_count": null,
      "outputs": []
    },
    {
      "cell_type": "code",
      "source": [
        "class Queue:\n",
        "  def init__(self):\n",
        "    self.front = None\n",
        "    self.back = None\n",
        "\n",
        "  def enqueue(self, elem):\n",
        "    if self.front == None: # This means first item\n",
        "      self.front = Node(elem, None)\n",
        "      self.back = self.front # Initially front and back are same\n",
        "    else:\n",
        "      n-Node(elem, None)\n",
        "      self.back.next = n # Inserting at the last\n",
        "      self.back = self.back.next # Moving back at the end\n",
        "\n",
        "  def dequeue(self):\n",
        "    if self.front == None: # For empty Queue\n",
        "      print(\"Queue Underflow Exception\")\n",
        "    else:\n",
        "      dequeued_item = self.front.elem\n",
        "      self.front = self.front.next # Moving the front pointer\n",
        "      return dequeued_item # Returning the dequeued item\n",
        "\n",
        "  def peek(self):\n",
        "    if self.front == None: # For empty queue\n",
        "      print(\"Queue Underflow Exception\")\n",
        "    else:\n",
        "      return self.front.elem # Returning the fornt item"
      ],
      "metadata": {
        "id": "SH89NKW1jgg2"
      },
      "execution_count": null,
      "outputs": []
    },
    {
      "cell_type": "markdown",
      "source": [
        "## Queue Implementation by Array"
      ],
      "metadata": {
        "id": "XFMtXYiEBLCp"
      }
    },
    {
      "cell_type": "code",
      "source": [
        "class ArrayQueue:\n",
        "  def _init_(self):\n",
        "    self.queue = [None] * 10                # Queue with size 10\n",
        "    self.front = 0                          # Initializing at index 0\n",
        "    self.back = 0                          # Initializing at index 0\n",
        "    self.size = 0                           # no elements\n",
        "\n",
        "  def enqueue(self, elem):\n",
        "    if self.size == len(self.queue):\n",
        "      print(\"Queue Overflow\")\n",
        "    else:\n",
        "      self.queue[self.back] = elem\n",
        "      self.back (self.back + 1) % len(self.queue)\n",
        "      self.size += 1\n",
        "\n",
        "  def dequeue(self):\n",
        "    if self.size == 0:\n",
        "      print(\"Queue Underflow\")\n",
        "    else:\n",
        "      dequeued_item = self.queue[self.front]\n",
        "      self.queue[self.front] = None\n",
        "      self.front = (self.front + 1) % len(self.queue)\n",
        "      self.size = 1\n",
        "      return dequeued_item\n",
        "\n",
        "  def peek(self):\n",
        "    if self.size == 0:\n",
        "      print(\"Queue Underflow\")\n",
        "    else:\n",
        "      return self.queue[self.front]"
      ],
      "metadata": {
        "id": "lDzUu82lmeIb"
      },
      "execution_count": null,
      "outputs": []
    },
    {
      "cell_type": "markdown",
      "source": [
        "# LAB EVOLUTION  1"
      ],
      "metadata": {
        "id": "1pPvUTb3d3Wa"
      }
    },
    {
      "cell_type": "code",
      "source": [
        "import numpy as np"
      ],
      "metadata": {
        "id": "xA8mwIVud0-T"
      },
      "execution_count": null,
      "outputs": []
    },
    {
      "cell_type": "code",
      "source": [
        "def printArray(givenArray):\n",
        "  rows, columns = givenArray.shape\n",
        "  for row in range(rows):\n",
        "    for column in range(columns):\n",
        "      print (givenArray[row][column], end = \" \")\n",
        "    print()"
      ],
      "metadata": {
        "id": "XTYp00q0d9LV"
      },
      "execution_count": null,
      "outputs": []
    },
    {
      "cell_type": "code",
      "source": [
        "def synthesize_sequence(given_sequence):\n",
        "  num_rows, num_cols = given_sequence.shape\n",
        "  new_seq = np.array(given_sequence.shape)\n",
        "\n",
        "  new_list = []\n",
        "  for row in given_sequence:\n",
        "    x = rotateRight(row)\n",
        "    new_list.append(x)\n",
        "  new_array = np.array(new_list)\n",
        "  return new_array\n",
        "\n",
        "def rotateRight(arr):\n",
        "  temp = arr[len (arr) - 1]\n",
        "  for i in range(len(arr) - 1, 0, -1):\n",
        "    arr[i] = arr[i - 1]\n",
        "  arr[0] = temp\n",
        "  return arr\n",
        "\n",
        "# Driver code\n",
        "given_sequence = np.array([['A', 'C', 'G', 'G'],['T', 'G', 'A', 'A'], ['G', 'G', 'A', 'C'], ['C', 'T', 'G', 'A']])\n",
        "print(\"Original Array\")\n",
        "printArray(given_sequence)\n",
        "print(\"=====================\")\n",
        "synthesizedArray1 = synthesize_sequence(given_sequence)\n",
        "print(\"After Synthesizing\")\n",
        "printArray(synthesizedArray1)\n",
        "print(\"=====================\")\n",
        "\n",
        "given_sequence = np.array([['A', 'C', 'G', 'G'], ['T', 'G', 'A', 'A'], ['A', 'G', 'A', 'C'],['A', 'T', 'G', 'A']])\n",
        "print(\"Original Array\")\n",
        "printArray(given_sequence)\n",
        "print(\"=====================\")\n",
        "synthesizedArray2 = synthesize_sequence(given_sequence)\n",
        "print(\"After Synthesizing\")\n",
        "printArray(synthesizedArray2)\n",
        "print(\"=====================\")"
      ],
      "metadata": {
        "colab": {
          "base_uri": "https://localhost:8080/"
        },
        "id": "Kd6pMLo1eBAx",
        "outputId": "f12988d6-98d1-4a5c-8a97-8dc776ea9eb0"
      },
      "execution_count": null,
      "outputs": [
        {
          "output_type": "stream",
          "name": "stdout",
          "text": [
            "Original Array\n",
            "A C G G \n",
            "T G A A \n",
            "G G A C \n",
            "C T G A \n",
            "=====================\n",
            "After Synthesizing\n",
            "G A C G \n",
            "A T G A \n",
            "C G G A \n",
            "A C T G \n",
            "=====================\n",
            "Original Array\n",
            "A C G G \n",
            "T G A A \n",
            "A G A C \n",
            "A T G A \n",
            "=====================\n",
            "After Synthesizing\n",
            "G A C G \n",
            "A T G A \n",
            "C A G A \n",
            "A A T G \n",
            "=====================\n"
          ]
        }
      ]
    },
    {
      "cell_type": "markdown",
      "source": [
        "# Lab Evaluation On Linked list"
      ],
      "metadata": {
        "id": "bIw_QVJ5mejr"
      }
    },
    {
      "cell_type": "code",
      "source": [
        "import numpy as np\n",
        "class Node:\n",
        "  def __init__(self,elem,next = None):\n",
        "    self.elem,self.next = elem,next\n",
        "\n",
        "def createList(arr):\n",
        "  head = Node(arr[0])\n",
        "  tail = head\n",
        "  for i in range(1,len(arr)):\n",
        "    newNode = Node(arr[i])\n",
        "    tail.next = newNode\n",
        "    tail = newNode\n",
        "  return head\n",
        "\n",
        "def printLinkedList(head):\n",
        "  temp = head\n",
        "  while temp != None:\n",
        "    if temp.next != None:\n",
        "      print(temp.elem, end = '-->')\n",
        "    else:\n",
        "      print(temp.elem)\n",
        "    temp = temp.next\n",
        "  print()\n",
        "\n",
        "def countNodes(head):\n",
        "  count = 0\n",
        "  temp = head\n",
        "  while temp != None:\n",
        "    count += 1\n",
        "    temp = temp.next\n",
        "  return count\n",
        "\n",
        "def nodeAt(head, idx):\n",
        "  temp = head\n",
        "  for i in range(idx):\n",
        "    temp = temp.next\n",
        "    if temp == None:\n",
        "      break\n",
        "  return temp"
      ],
      "metadata": {
        "id": "2X_st4mymif8"
      },
      "execution_count": null,
      "outputs": []
    },
    {
      "cell_type": "code",
      "source": [
        "def removeAllOdd(head):\n",
        "  temp = head\n",
        "  size = countNodes(head)\n",
        "  arr_size = size // 2\n",
        "  Array = [None] * arr_size\n",
        "  i = 0\n",
        "  while temp != None:\n",
        "    if temp.elem % 2 == 0:\n",
        "      Array[i] = temp.elem\n",
        "      temp = temp.next\n",
        "      i += 1\n",
        "    else:\n",
        "      temp = temp.next\n",
        "      pass\n",
        "\n",
        "  New_list = createList(Array)\n",
        "  return New_list"
      ],
      "metadata": {
        "id": "5ZFU96nAmlXb"
      },
      "execution_count": null,
      "outputs": []
    },
    {
      "cell_type": "code",
      "source": [
        "#Tester Code\n",
        "head = createList(np.array([5,7,6,21,3,62,213,6,121]))\n",
        "print(\"Original Input Linked List:\")\n",
        "printLinkedList(head)\n",
        "#This should print  5-->7-->6-->21-->3-->62-->213-->6-->121\n",
        "\n",
        "h=removeAllOdd(head)\n",
        "print(\"Output Linked List:\")\n",
        "printLinkedList(h)\n",
        "#This should print  6-->62-->6"
      ],
      "metadata": {
        "colab": {
          "base_uri": "https://localhost:8080/"
        },
        "id": "9-psF5Emmn8X",
        "outputId": "ca79a079-42ae-4f0c-851c-1fd7d68384e1"
      },
      "execution_count": null,
      "outputs": [
        {
          "output_type": "stream",
          "name": "stdout",
          "text": [
            "Original Input Linked List:\n",
            "5-->7-->6-->21-->3-->62-->213-->6-->121\n",
            "\n",
            "Output Linked List:\n",
            "6-->62-->6-->None\n",
            "\n"
          ]
        }
      ]
    },
    {
      "cell_type": "markdown",
      "source": [
        "# Quiz 2"
      ],
      "metadata": {
        "id": "9EMS378ND6n3"
      }
    },
    {
      "cell_type": "code",
      "source": [
        "# Set A Question 1:\n",
        "class Node:\n",
        "  def __init__(self, e, n):\n",
        "    self.elem = e\n",
        "    self.next = n"
      ],
      "metadata": {
        "id": "VhIVh19tD5TS"
      },
      "execution_count": null,
      "outputs": []
    },
    {
      "cell_type": "code",
      "source": [
        "class DoublyNode:\n",
        "\tdef __init__(self, elem, next, prev):\n",
        "\t\tself.elem = elem\n",
        "\t\tself.next = next\n",
        "\t\tself.prev = prev"
      ],
      "metadata": {
        "id": "yuigq59EEwRo"
      },
      "execution_count": null,
      "outputs": []
    },
    {
      "cell_type": "code",
      "source": [
        "def convert ( dh ):\n",
        "  if dh.next is None:  # Check if the doubly circular list is empty\n",
        "    return None\n",
        "\n",
        "  head = Node(dh.next.elem, None)\n",
        "  current = head  # Track the current node in the singly linear list\n",
        "\n",
        "  node = dh.next.next  # Start from the second node in the doubly circular list\n",
        "  while node != dh.next:\n",
        "    current.next = Node(node.elem, None)  # Create a new node and set it as the next node\n",
        "    current = current.next  # Move to the next node in the singly linear list\n",
        "    node = node.next  # Move to the next node in the doubly circular list\n",
        "\n",
        "  return head"
      ],
      "metadata": {
        "id": "kAGRTMO7Ew5A"
      },
      "execution_count": null,
      "outputs": []
    },
    {
      "cell_type": "code",
      "source": [
        "# GPT-4\n",
        "class Node:\n",
        "  def __init__(self, data):\n",
        "    self.data = data\n",
        "    self.next = None\n",
        "\n",
        "class DoublyCircularLinkedList:\n",
        "  def __init__(self):\n",
        "    self.head = None\n",
        "\n",
        "  def append(self, data):\n",
        "    new_node = Node(data)\n",
        "\n",
        "    if not self.head:\n",
        "      self.head = new_node\n",
        "      new_node.next = new_node\n",
        "    else:\n",
        "      temp = self.head\n",
        "      while temp.next != self.head:\n",
        "          temp = temp.next\n",
        "\n",
        "      new_node.next = self.head\n",
        "      temp.next = new_node\n",
        "\n",
        "  def convert_to_singly_linear(self):\n",
        "      if not self.head:\n",
        "        return None\n",
        "\n",
        "      current = self.head\n",
        "      singly_list = Node(current.data)\n",
        "      temp = singly_list\n",
        "\n",
        "      current = current.next\n",
        "      while current != self.head:\n",
        "        new_node = Node(current.data)\n",
        "        temp.next = new_node\n",
        "        temp = new_node\n",
        "        current = current.next\n",
        "      return singly_list\n",
        "\n",
        "# Create a dummy-headed doubly circular linked list\n",
        "doubly_linked_list = DoublyCircularLinkedList()\n",
        "doubly_linked_list.append(1)\n",
        "doubly_linked_list.append(2)\n",
        "doubly_linked_list.append(3)\n",
        "doubly_linked_list.append(4)\n",
        "\n",
        "# Convert to a singly linear linked list\n",
        "singly_linked_list = doubly_linked_list.convert_to_singly_linear()\n",
        "\n",
        "# Print the singly linear linked list\n",
        "temp = singly_linked_list\n",
        "while temp:\n",
        "    print(temp.data, end=\" \")\n",
        "    temp = temp.next\n",
        "\n",
        "# Output: 1 2 3 4\n"
      ],
      "metadata": {
        "colab": {
          "base_uri": "https://localhost:8080/"
        },
        "id": "PxkhP7xYHFjL",
        "outputId": "836628e7-fc84-4080-fd0b-4361e7830cba"
      },
      "execution_count": null,
      "outputs": [
        {
          "output_type": "stream",
          "name": "stdout",
          "text": [
            "1 2 3 4 "
          ]
        }
      ]
    },
    {
      "cell_type": "code",
      "source": [
        "# Set B Question 1:\n",
        "class Node:\n",
        "  def __init__(self, e, n):\n",
        "    self.elem = e\n",
        "    self.next = n\n",
        "\n",
        "class DoublyNode:\n",
        "  def __init__(self, elem, next, prev):\n",
        "    self.elem = elem\n",
        "    self.next = next\n",
        "    self.prev = prev\n",
        "\n",
        "def convert(dh):\n",
        "  if dh is None:\n",
        "    return None\n",
        "  dummy = DoublyNode(None, None, None)\n",
        "  dummy.next = dummy\n",
        "  dummy.prev = dummy\n",
        "\n",
        "  current = dh\n",
        "  prev_doubly = dummy\n",
        "\n",
        "  while current is not None:\n",
        "    doubly_node = DoublyNode(current.elem, None, prev_doubly)\n",
        "    prev_doubly.next = doubly_node\n",
        "    doubly_node.prev = prev_doubly\n",
        "    prev_doubly = doubly_node\n",
        "    current = current.next\n",
        "  prev_doubly.next = dummy\n",
        "  dummy.prev = prev_doubly\n",
        "  return dummy"
      ],
      "metadata": {
        "id": "qFIEWA_GJpu3"
      },
      "execution_count": null,
      "outputs": []
    },
    {
      "cell_type": "markdown",
      "source": [
        "# SPRING 2023 MID Question"
      ],
      "metadata": {
        "id": "qmtECIPNwmGV"
      }
    },
    {
      "cell_type": "code",
      "source": [
        "# Question 1\n",
        "def multiple_repeat(a):\n",
        "  repeat_counts = {}\n",
        "  for i in a:\n",
        "    if i not in repeat_counts:\n",
        "      repeat_counts[i] = 1\n",
        "    elif i in repeat_counts:\n",
        "      repeat_counts[i] += 1\n",
        "\n",
        "  flag = False\n",
        "  values_list = list(repeat_counts.values())\n",
        "  values_list.remove(1)                      # This will remove all the unrepeted value\n",
        "  for i in range(len(values_list)):\n",
        "    if values_list[i] in values_list[i+1:]:\n",
        "      flag = True\n",
        "  return flag\n",
        "\n",
        "array = [4,5,6,6,4,3,6,4]\n",
        "print(multiple_repeat(array))\n",
        "\n",
        "array = [3,4,6,3,4,7,4,6,8,6,6]\n",
        "print(multiple_repeat(array))"
      ],
      "metadata": {
        "colab": {
          "base_uri": "https://localhost:8080/"
        },
        "id": "RWJF5jlmwknf",
        "outputId": "860f1f77-663b-4622-c30e-4a70b1e553dc"
      },
      "execution_count": null,
      "outputs": [
        {
          "output_type": "stream",
          "name": "stdout",
          "text": [
            "True\n",
            "False\n"
          ]
        }
      ]
    },
    {
      "cell_type": "code",
      "source": [
        "# Question 2\n",
        "#Run this cell\n",
        "class Node:\n",
        "  def __init__(self,elem,next = None):\n",
        "    self.elem = elem\n",
        "    self.next = next\n",
        "\n",
        "def createList(arr):\n",
        "  head = Node(arr[0])\n",
        "  tail = head\n",
        "  for i in range(1,len(arr)):\n",
        "    newNode = Node(arr[i])\n",
        "    tail.next = newNode\n",
        "    tail = newNode\n",
        "  return head\n",
        "\n",
        "def printLinkedList(head):\n",
        "  temp = head\n",
        "  while temp != None:\n",
        "    if temp.next != None:\n",
        "      print(temp.elem, end = '-->')\n",
        "    else:\n",
        "      print(temp.elem)\n",
        "    temp = temp.next\n",
        "  print()\n",
        "\n",
        "def remove_compartment(head,n):\n",
        "  size = count(head)\n",
        "  idx = size - n\n",
        "  result = remove(head, idx)\n",
        "  return result\n",
        "\n",
        "def nodeAt (head, idx):\n",
        "  count = 0\n",
        "  temp = head\n",
        "  obj = None\n",
        "  while temp != None:\n",
        "    if count == idx:\n",
        "      obj = temp\n",
        "      break\n",
        "    temp = temp.next\n",
        "    count += 1\n",
        "  return obj\n",
        "\n",
        "def count (head):\n",
        "  count = 0\n",
        "  temp = head\n",
        "  while temp != None:\n",
        "    count += 1\n",
        "    temp = temp.next\n",
        "  return count\n",
        "\n",
        "def remove (head, idx):\n",
        "  if idx == 0:\n",
        "    head = head.next\n",
        "  elif idx >= 1 and idx < count (head):\n",
        "    n1 = nodeAt(head, idx - 1)\n",
        "    removed_node = n1.next\n",
        "    n1.next= removed_node.next\n",
        "  return head\n",
        "\n",
        "head = createList(np.array([10,20,5,15,25]))\n",
        "print('Original Compartment Sequence: ', end = ' ')\n",
        "printLinkedList(head)\n",
        "head = remove_compartment(head,2)\n",
        "print('Changed Compartment Sequence: ', end = ' ')\n",
        "printLinkedList(head)\n",
        "print()\n",
        "head = createList(np.array([10,20,5,15,25]))\n",
        "print('Original Compartment Sequence: ', end = ' ')\n",
        "printLinkedList(head)\n",
        "head = remove_compartment(head,8)\n",
        "print('Changed Compartment Sequence: ', end = ' ')\n",
        "printLinkedList(head)\n",
        "print()"
      ],
      "metadata": {
        "colab": {
          "base_uri": "https://localhost:8080/"
        },
        "id": "eHF7IusaA6q2",
        "outputId": "2fcad780-2b1b-4990-eca6-42705c10d2b0"
      },
      "execution_count": null,
      "outputs": [
        {
          "output_type": "stream",
          "name": "stdout",
          "text": [
            "Original Compartment Sequence:  10-->20-->5-->15-->25\n",
            "\n",
            "Changed Compartment Sequence:  10-->20-->5-->25\n",
            "\n",
            "\n",
            "Original Compartment Sequence:  10-->20-->5-->15-->25\n",
            "\n",
            "Changed Compartment Sequence:  10-->20-->5-->15-->25\n",
            "\n",
            "\n"
          ]
        }
      ]
    },
    {
      "cell_type": "code",
      "source": [
        "# Question 3\n",
        "class Stack:\n",
        "  def __init__(self):\n",
        "    self.__top = None\n",
        "\n",
        "def diamond_count(stack,string):\n",
        "  open = Stack()\n",
        "  close = Stack()\n",
        "\n",
        "  open_counter = 0\n",
        "  close_counter = 0\n",
        "\n",
        "  for i in string:\n",
        "    if i == \"<\":\n",
        "      open_counter += 1\n",
        "    if i == \">\":\n",
        "      close_counter += 1\n",
        "\n",
        "  if open_counter == close_counter:\n",
        "    count_diamond = open_counter\n",
        "  elif open_counter > close_counter:\n",
        "    count_diamond = close_counter\n",
        "  elif open_counter < close_counter:\n",
        "    count_diamond = open_counter\n",
        "\n",
        "  return count_diamond\n",
        "\n",
        "print('Test 01')\n",
        "stack = Stack()\n",
        "string = '<..><.<..>> '\n",
        "returned_value = diamond_count(stack,string)\n",
        "print(f'Number of Diamonds: {returned_value}')\n",
        "\n",
        "print('Test 02')\n",
        "stack = Stack()\n",
        "string = '<<<..<......<<<<....>'\n",
        "returned_value = diamond_count(stack,string)\n",
        "print(f'Number of Diamonds: {returned_value}')"
      ],
      "metadata": {
        "colab": {
          "base_uri": "https://localhost:8080/"
        },
        "id": "s1OWu_b0DYVC",
        "outputId": "03f16039-7347-4952-9b15-19cbae84031b"
      },
      "execution_count": null,
      "outputs": [
        {
          "output_type": "stream",
          "name": "stdout",
          "text": [
            "Test 01\n",
            "Number of Diamonds: 3\n",
            "Test 02\n",
            "Number of Diamonds: 1\n"
          ]
        }
      ]
    },
    {
      "cell_type": "markdown",
      "source": [
        "# LAb Mid Sec 17"
      ],
      "metadata": {
        "id": "gzab3gHldORX"
      }
    },
    {
      "cell_type": "code",
      "source": [
        "import numpy as np\n",
        "class Node:\n",
        "  def __init__(self,e,n):\n",
        "    self.elem = e\n",
        "    self.next = n"
      ],
      "metadata": {
        "id": "xHwAhjFidNhR"
      },
      "execution_count": null,
      "outputs": []
    },
    {
      "cell_type": "code",
      "source": [
        "def createList(arr):\n",
        "  head = Node(arr[0],None)\n",
        "  tail = head\n",
        "  for i in range(1,len(arr)):\n",
        "    newNode = Node(arr[i],None)\n",
        "    tail.next = newNode\n",
        "    tail = newNode\n",
        "  return head"
      ],
      "metadata": {
        "id": "gBnOuwW3d5BN"
      },
      "execution_count": null,
      "outputs": []
    },
    {
      "cell_type": "code",
      "source": [
        "# def remove_dup(head):\n",
        "#   new_list = []\n",
        "#   temp = head\n",
        "#   while temp != None:\n",
        "#     if temp.elem == temp.next.elem:\n",
        "#       if temp.elem not in new_list:\n",
        "#         new_list.append(temp.elem)\n",
        "#   new_array = np.array(new_list)\n",
        "#   result = createList(new_array)\n",
        "#   return result\n",
        "def remove_dup(head):\n",
        "  curr = head\n",
        "  while curr != None:\n",
        "    next_node = curr.next\n",
        "    while next_node != None and next_node.elem == curr.elem:\n",
        "      next_node = next_node.next\n",
        "    curr.next = next_node\n",
        "    curr = next_node\n",
        "  return head"
      ],
      "metadata": {
        "id": "A5eLe4b3d7pt"
      },
      "execution_count": null,
      "outputs": []
    },
    {
      "cell_type": "code",
      "source": [
        "def printLinkedList(head):\n",
        "  temp = head\n",
        "  while temp != None:\n",
        "    if temp.next != None:\n",
        "      print(temp.elem, end = '-->')\n",
        "    else:\n",
        "      print(temp.elem)\n",
        "    temp = temp.next\n",
        "  print()"
      ],
      "metadata": {
        "id": "bZ4ghe2cd9e0"
      },
      "execution_count": null,
      "outputs": []
    },
    {
      "cell_type": "code",
      "source": [
        "#Tester Code\n",
        "head=createList(np.array([2,2,2,2,7,7,9,10,10,10,10,12]))\n",
        "printLinkedList(head) #This should print    2-->2-->2-->2-->7-->7-->9-->10-->10-->10-->10-->12\n",
        "h=remove_dup(head)\n",
        "printLinkedList(h)    #This should print    2-->7-->9-->10-->12"
      ],
      "metadata": {
        "colab": {
          "base_uri": "https://localhost:8080/"
        },
        "id": "UBNshUgThu5j",
        "outputId": "85c845e8-4fd4-4d9e-a72b-f2f701dc451d"
      },
      "execution_count": null,
      "outputs": [
        {
          "output_type": "stream",
          "name": "stdout",
          "text": [
            "2-->2-->2-->2-->7-->7-->9-->10-->10-->10-->10-->12\n",
            "\n",
            "2-->7-->9-->10-->12\n",
            "\n"
          ]
        }
      ]
    },
    {
      "cell_type": "markdown",
      "source": [
        "# Mid Set-A"
      ],
      "metadata": {
        "id": "A3HEbo54rNeU"
      }
    },
    {
      "cell_type": "code",
      "source": [
        "# Question 1 (ii)\n",
        "import numpy as np\n",
        "def raw_min_max(arr):\n",
        "  row_max = []\n",
        "  for row in arr:\n",
        "    max_value = row[0]\n",
        "    for i in range(1,len(row)):\n",
        "      if row[i] > max_value:\n",
        "        max_value = row[i]\n",
        "    row_max.append(max_value)\n",
        "  min_value = row_max[0]\n",
        "  for i in range(1,len(row_max)):\n",
        "    if row_max[i] > min_value:\n",
        "      min_value = row_max[i]\n",
        "  return min_value\n",
        "\n",
        "arr = np.array([[2,7,5],[9,3,8],[1,4,6]])\n",
        "print(f'Maximum value :{raw_min_max(arr)}')"
      ],
      "metadata": {
        "colab": {
          "base_uri": "https://localhost:8080/"
        },
        "id": "sTavAZxSrTYR",
        "outputId": "e43a2282-879c-40db-e4b7-f51964f3d41b"
      },
      "execution_count": null,
      "outputs": [
        {
          "output_type": "stream",
          "name": "stdout",
          "text": [
            "Maximum value :9\n"
          ]
        }
      ]
    },
    {
      "cell_type": "code",
      "source": [
        "# Question 2 (ii)\n",
        "class Node:\n",
        "  def __init__(self, elem, next=None):\n",
        "    self.elem = elem\n",
        "    self.next = next\n",
        "\n",
        "def createList(arr):\n",
        "  head = Node(arr[0])\n",
        "  tail = head\n",
        "  for i in range(1, len(arr)):\n",
        "    newNode = Node(arr[i])\n",
        "    tail.next = newNode\n",
        "    tail = newNode\n",
        "  return head\n",
        "\n",
        "def is_sorted_des(head):\n",
        "  if head == None or head.next == None:\n",
        "    return True\n",
        "\n",
        "  temp = head\n",
        "  while temp.next != None:\n",
        "    if temp.elem > temp.next.elem:\n",
        "      return False\n",
        "    temp = temp.next\n",
        "  return True\n",
        "\n",
        "\n",
        "arr1 = [10,20,5,15,25]\n",
        "arr2 = [5,15,20,30,40]\n",
        "a = createList(arr1)\n",
        "b = createList(arr2)\n",
        "print(f'Test 1: {is_sorted_des(a)}')  # Output: Test 1: False\n",
        "print(f'Test 2: {is_sorted_des(b)}')  # Output: Test 2: True"
      ],
      "metadata": {
        "colab": {
          "base_uri": "https://localhost:8080/"
        },
        "id": "M-HdvycdzHF3",
        "outputId": "ad00e789-5dea-4baf-f074-3fd6351e677c"
      },
      "execution_count": null,
      "outputs": [
        {
          "output_type": "stream",
          "name": "stdout",
          "text": [
            "Test 1: False\n",
            "Test 2: True\n"
          ]
        }
      ]
    },
    {
      "cell_type": "code",
      "source": [
        "# Question 3 (ii)\n",
        "class Node:\n",
        "  def __init__(self,elem=None,next=None):\n",
        "    self.elem = elem\n",
        "    self.next = next\n",
        "\n",
        "class Stack:\n",
        "  def __init__(self):\n",
        "    self.__top = None\n",
        "\n",
        "  def push(self,elem):\n",
        "    if self.__top == None: #Stack is empty\n",
        "      self.__top = Node(elem, self.__top)\n",
        "    else:\n",
        "      newNode = Node (elem, self.__top)\n",
        "      newNode.next = self.__top\n",
        "      self.__top = newNode\n",
        "\n",
        "  def pop(self):\n",
        "    if self.__top == None:\n",
        "      return None #Stack Underflow\n",
        "    else:\n",
        "      popped = self.__top\n",
        "      self.__top  = self.__top.next\n",
        "      popped.next = None\n",
        "      return popped.elem\n",
        "\n",
        "  def peek(self):\n",
        "    if self.__top == None:\n",
        "      return None #Stack Underflow\n",
        "    else:\n",
        "      return self.__top.elem\n",
        "\n",
        "  def isEmpty(self):\n",
        "    if self.__top == None:\n",
        "      return True\n",
        "\n",
        "def remove_middle(stack):\n",
        "  stack_size = 0\n",
        "  temp_stack = Stack()\n",
        "\n",
        "  while not stack.isEmpty():\n",
        "    temp_stack.push(stack.pop())\n",
        "    stack_size += 1\n",
        "  middle_index = stack_size // 2\n",
        "  for i in range(stack_size):\n",
        "    if i != middle_index:\n",
        "      stack.push(temp_stack.pop())\n",
        "    else:\n",
        "      temp_stack.pop()\n",
        "  while not temp_stack.isEmpty():\n",
        "    stack.push(temp_stack.pop())\n",
        "\n",
        "\n",
        "def print_stack(st):\n",
        "  if st.isEmpty():\n",
        "    return\n",
        "  p = st.pop()\n",
        "  print('|',p,end=' ')\n",
        "  if p<10:\n",
        "    print(' |')\n",
        "  else:\n",
        "    print('|')\n",
        "  print('------')\n",
        "  print_stack(st)\n",
        "  st.push(p)\n",
        "\n",
        "st = Stack()\n",
        "st.push(25)\n",
        "st.push(15)\n",
        "st.push(5)\n",
        "st.push(20)\n",
        "st.push(10)\n",
        "print_stack(st)\n",
        "print('------')\n",
        "remove_middle(st)\n",
        "print_stack(st)\n",
        "print()\n",
        "st1 = Stack()\n",
        "st1.push(35)\n",
        "st1.push(25)\n",
        "st1.push(15)\n",
        "st1.push(5)\n",
        "st1.push(20)\n",
        "st1.push(10)\n",
        "print_stack(st1)\n",
        "print('------')\n",
        "remove_middle(st1)\n",
        "print_stack(st1)"
      ],
      "metadata": {
        "colab": {
          "base_uri": "https://localhost:8080/"
        },
        "id": "9jO-izPgzenc",
        "outputId": "f38f8a27-b0c8-485b-a71f-9b220e61a8cd"
      },
      "execution_count": null,
      "outputs": [
        {
          "output_type": "stream",
          "name": "stdout",
          "text": [
            "| 10 |\n",
            "------\n",
            "| 20 |\n",
            "------\n",
            "| 5  |\n",
            "------\n",
            "| 15 |\n",
            "------\n",
            "| 25 |\n",
            "------\n",
            "------\n",
            "| 10 |\n",
            "------\n",
            "| 20 |\n",
            "------\n",
            "| 15 |\n",
            "------\n",
            "| 25 |\n",
            "------\n",
            "\n",
            "| 10 |\n",
            "------\n",
            "| 20 |\n",
            "------\n",
            "| 5  |\n",
            "------\n",
            "| 15 |\n",
            "------\n",
            "| 25 |\n",
            "------\n",
            "| 35 |\n",
            "------\n",
            "------\n",
            "| 10 |\n",
            "------\n",
            "| 20 |\n",
            "------\n",
            "| 15 |\n",
            "------\n",
            "| 25 |\n",
            "------\n",
            "| 35 |\n",
            "------\n"
          ]
        }
      ]
    },
    {
      "cell_type": "code",
      "source": [
        "def remove_middle(stack):\n",
        "    # Find the size of the stack\n",
        "    stack_size = 0\n",
        "    temp_stack = Stack()\n",
        "\n",
        "    while not stack.isEmpty():\n",
        "        temp_stack.push(stack.pop())\n",
        "        stack_size += 1\n",
        "\n",
        "    # Calculate the middle index\n",
        "    middle_index = stack_size // 2\n",
        "\n",
        "    # Remove the middle element\n",
        "    for i in range(stack_size):\n",
        "        if i != middle_index:\n",
        "            stack.push(temp_stack.pop())\n",
        "        else:\n",
        "            temp_stack.pop()\n",
        "\n",
        "    # Revert the original stack\n",
        "    while not temp_stack.isEmpty():\n",
        "        stack.push(temp_stack.pop())\n",
        "\n",
        "# Rest of your code remains unchanged\n",
        "st = Stack()\n",
        "st.push(25)\n",
        "st.push(15)\n",
        "st.push(5)\n",
        "st.push(20)\n",
        "st.push(10)\n",
        "print_stack(st)\n",
        "print('------')\n",
        "remove_middle(st)\n",
        "print_stack(st)\n"
      ],
      "metadata": {
        "colab": {
          "base_uri": "https://localhost:8080/"
        },
        "id": "1TH5IE8E34iq",
        "outputId": "1d626654-1f1a-43bf-f0e9-77c54145894a"
      },
      "execution_count": null,
      "outputs": [
        {
          "output_type": "stream",
          "name": "stdout",
          "text": [
            "| 10 |\n",
            "------\n",
            "| 20 |\n",
            "------\n",
            "| 5  |\n",
            "------\n",
            "| 15 |\n",
            "------\n",
            "| 25 |\n",
            "------\n",
            "------\n",
            "| 10 |\n",
            "------\n",
            "| 20 |\n",
            "------\n",
            "| 15 |\n",
            "------\n",
            "| 25 |\n",
            "------\n"
          ]
        }
      ]
    },
    {
      "cell_type": "markdown",
      "source": [
        "# Mid Set-B"
      ],
      "metadata": {
        "id": "Auep6vbdmyzM"
      }
    },
    {
      "cell_type": "code",
      "source": [
        "# Question 1 (ii)\n",
        "import numpy as np\n",
        "def raw_min_max(arr):\n",
        "  row_min = []\n",
        "  for row in arr:\n",
        "    min_value = row[0]\n",
        "    for i in range(1,len(row)):\n",
        "      if row[i] < min_value:\n",
        "        min_value = row[i]\n",
        "    row_min.append(min_value)\n",
        "  max_value = row_min[0]\n",
        "  for i in range(1,len(row_min)):\n",
        "    if row_min[i] > max_value:\n",
        "      max_value = row_min[i]\n",
        "  return max_value\n",
        "\n",
        "arr = np.array([[2,7,5],[9,3,8],[1,4,6]])\n",
        "print(f'Minimum value :{raw_min_max(arr)}')"
      ],
      "metadata": {
        "colab": {
          "base_uri": "https://localhost:8080/"
        },
        "id": "mnfgSlnXmyaf",
        "outputId": "ae343d57-bc42-4aa3-8c18-1f90acb8a78f"
      },
      "execution_count": null,
      "outputs": [
        {
          "output_type": "stream",
          "name": "stdout",
          "text": [
            "Minimum value :3\n"
          ]
        }
      ]
    },
    {
      "cell_type": "code",
      "source": [
        "# Question 2 (ii)\n",
        "class Node:\n",
        "  def __init__(self, elem, next=None):\n",
        "    self.elem = elem\n",
        "    self.next = next\n",
        "\n",
        "def createList(arr):\n",
        "  head = Node(arr[0])\n",
        "  tail = head\n",
        "  for i in range(1, len(arr)):\n",
        "    newNode = Node(arr[i])\n",
        "    tail.next = newNode\n",
        "    tail = newNode\n",
        "  return head\n",
        "\n",
        "def is_sorted_des(head):\n",
        "  if head == None or head.next == None:\n",
        "    return True\n",
        "\n",
        "  temp = head\n",
        "  while temp.next != None:\n",
        "    if temp.elem < temp.next.elem:\n",
        "      return False\n",
        "    temp = temp.next\n",
        "  return True\n",
        "\n",
        "\n",
        "arr1 = [10,20,5,15,25]\n",
        "arr2 = [40,30,20,15,5]\n",
        "a = createList(arr1)\n",
        "b = createList(arr2)\n",
        "print(f'Test 1: {is_sorted_des(a)}')  # Output: Test 1: False\n",
        "print(f'Test 2: {is_sorted_des(b)}')  # Output: Test 2: True"
      ],
      "metadata": {
        "colab": {
          "base_uri": "https://localhost:8080/"
        },
        "id": "1ePWAxt3ymF1",
        "outputId": "a5c1c99d-0579-4030-8e68-84d97938a705"
      },
      "execution_count": null,
      "outputs": [
        {
          "output_type": "stream",
          "name": "stdout",
          "text": [
            "Test 1: False\n",
            "Test 2: True\n"
          ]
        }
      ]
    },
    {
      "cell_type": "code",
      "source": [
        "# Question 3 (ii)\n",
        "class Node:\n",
        "  def __init__(self,elem=None,next=None):\n",
        "    self.elem = elem\n",
        "    self.next = next\n",
        "\n",
        "class Stack:\n",
        "  def __init__(self):\n",
        "    self.__top = None\n",
        "\n",
        "  def push(self,elem):\n",
        "    if self.__top == None: #Stack is empty\n",
        "      self.__top = Node(elem, self.__top)\n",
        "    else:\n",
        "      newNode = Node (elem, self.__top)\n",
        "      newNode.next = self.__top\n",
        "      self.__top = newNode\n",
        "\n",
        "  def pop(self):\n",
        "    if self.__top == None:\n",
        "      return None #Stack Underflow\n",
        "    else:\n",
        "      popped = self.__top\n",
        "      self.__top  = self.__top.next\n",
        "      popped.next = None\n",
        "      return popped.elem\n",
        "\n",
        "  def peek(self):\n",
        "    if self.__top == None:\n",
        "      return None #Stack Underflow\n",
        "    else:\n",
        "      return self.__top.elem\n",
        "\n",
        "  def isEmpty(self):\n",
        "    if self.__top == None:\n",
        "      return True\n",
        "\n",
        "def remove_middle(stack):\n",
        "  stack_size = 0\n",
        "  temp_stack = Stack()\n",
        "\n",
        "  while not stack.isEmpty():\n",
        "    temp_stack.push(stack.pop())\n",
        "    stack_size += 1\n",
        "  middle_index = stack_size // 2\n",
        "  for i in range(stack_size):\n",
        "    if i != middle_index:\n",
        "      stack.push(temp_stack.pop())\n",
        "    else:\n",
        "      temp_stack.pop()\n",
        "  while not temp_stack.isEmpty():\n",
        "    stack.push(temp_stack.pop())\n",
        "\n",
        "\n",
        "def print_stack(st):\n",
        "  if st.isEmpty():\n",
        "    return\n",
        "  p = st.pop()\n",
        "  print('|',p,end=' ')\n",
        "  if p<10:\n",
        "    print(' |')\n",
        "  else:\n",
        "    print('|')\n",
        "  print('------')\n",
        "  print_stack(st)\n",
        "  st.push(p)\n",
        "\n",
        "st = Stack()\n",
        "st.push(25)\n",
        "st.push(15)\n",
        "st.push(5)\n",
        "st.push(20)\n",
        "st.push(10)\n",
        "print_stack(st)\n",
        "print('------')\n",
        "remove_middle(st)\n",
        "print_stack(st)\n",
        "print()\n",
        "st1 = Stack()\n",
        "st1.push(35)\n",
        "st1.push(25)\n",
        "st1.push(15)\n",
        "st1.push(5)\n",
        "st1.push(20)\n",
        "st1.push(10)\n",
        "print_stack(st1)\n",
        "print('------')\n",
        "remove_middle(st1)\n",
        "print_stack(st1)"
      ],
      "metadata": {
        "colab": {
          "base_uri": "https://localhost:8080/"
        },
        "id": "GgQ66ciszRg6",
        "outputId": "c6945743-e650-4894-ea60-349f2bc368a5"
      },
      "execution_count": null,
      "outputs": [
        {
          "output_type": "stream",
          "name": "stdout",
          "text": [
            "| 10 |\n",
            "------\n",
            "| 20 |\n",
            "------\n",
            "| 5  |\n",
            "------\n",
            "| 15 |\n",
            "------\n",
            "| 25 |\n",
            "------\n",
            "------\n",
            "| 10 |\n",
            "------\n",
            "| 20 |\n",
            "------\n",
            "| 15 |\n",
            "------\n",
            "| 25 |\n",
            "------\n",
            "\n",
            "| 10 |\n",
            "------\n",
            "| 20 |\n",
            "------\n",
            "| 5  |\n",
            "------\n",
            "| 15 |\n",
            "------\n",
            "| 25 |\n",
            "------\n",
            "| 35 |\n",
            "------\n",
            "------\n",
            "| 10 |\n",
            "------\n",
            "| 20 |\n",
            "------\n",
            "| 15 |\n",
            "------\n",
            "| 25 |\n",
            "------\n",
            "| 35 |\n",
            "------\n"
          ]
        }
      ]
    },
    {
      "cell_type": "markdown",
      "source": [
        "# After **MID**"
      ],
      "metadata": {
        "id": "lih8mq4HN9Q_"
      }
    },
    {
      "cell_type": "markdown",
      "source": [
        "# Recursion"
      ],
      "metadata": {
        "id": "TcoBVsbrJu_E"
      }
    },
    {
      "cell_type": "code",
      "source": [
        "def recursion(n):\n",
        "  print(n)\n",
        "  if n == 0:      # Base case\n",
        "    return\n",
        "  recursion(n - 1)  # Recursive function call\n",
        "\n",
        "recursion(4)"
      ],
      "metadata": {
        "colab": {
          "base_uri": "https://localhost:8080/"
        },
        "id": "lIFHth_tJuhX",
        "outputId": "336bc77f-643f-4ba2-923a-b5fd7670b7d8"
      },
      "execution_count": null,
      "outputs": [
        {
          "output_type": "stream",
          "name": "stdout",
          "text": [
            "4\n",
            "3\n",
            "2\n",
            "1\n",
            "0\n"
          ]
        }
      ]
    },
    {
      "cell_type": "code",
      "source": [
        "def factorial(n):\n",
        "  if n == 0:         # Base case\n",
        "    return 1\n",
        "  else:\n",
        "    return n * factorial(n - 1)   # Recursive function call\n",
        "\n",
        "factorial(4)"
      ],
      "metadata": {
        "colab": {
          "base_uri": "https://localhost:8080/"
        },
        "id": "L_yauPBsKOmN",
        "outputId": "1fe804d9-8f0d-42d2-8b0e-bb9df288de59"
      },
      "execution_count": null,
      "outputs": [
        {
          "output_type": "execute_result",
          "data": {
            "text/plain": [
              "24"
            ]
          },
          "metadata": {},
          "execution_count": 19
        }
      ]
    },
    {
      "cell_type": "code",
      "source": [
        "def iterate_count(n):\n",
        "  if n == 0:      # Base case\n",
        "    print(n)\n",
        "    return\n",
        "  iterate_count(n - 1)   # Recursive function call\n",
        "  print(n)\n",
        "  # here is a return in-built works no need to command.\n",
        "\n",
        "iterate_count(4)"
      ],
      "metadata": {
        "id": "TcnTEDMyNOFJ",
        "colab": {
          "base_uri": "https://localhost:8080/"
        },
        "outputId": "6f598b81-0cc1-4b62-f116-b02f06c00cca"
      },
      "execution_count": null,
      "outputs": [
        {
          "output_type": "stream",
          "name": "stdout",
          "text": [
            "0\n",
            "1\n",
            "2\n",
            "3\n",
            "4\n"
          ]
        }
      ]
    },
    {
      "cell_type": "code",
      "source": [
        "# Fibonacci Number of the index\n",
        "def fibonacci(n):\n",
        "  if n == 0:      # Base case\n",
        "    return 0\n",
        "  elif n == 1:    # Base case\n",
        "    return 1\n",
        "  else:\n",
        "    return fibonacci(n - 1) + fibonacci(n - 2)    # Recursive function call\n",
        "\n",
        "fibonacci(4)"
      ],
      "metadata": {
        "colab": {
          "base_uri": "https://localhost:8080/"
        },
        "id": "riYW3XGQOqWo",
        "outputId": "077e62da-57a3-4ee8-df60-2bbc570dd27d"
      },
      "execution_count": null,
      "outputs": [
        {
          "output_type": "execute_result",
          "data": {
            "text/plain": [
              "3"
            ]
          },
          "metadata": {},
          "execution_count": 18
        }
      ]
    },
    {
      "cell_type": "code",
      "source": [
        "def fib(n):\n",
        "  if n < 2 :\n",
        "    return n       #Base Case\n",
        "  else:\n",
        "    return fib(n -1) + fib(n - 2)    # Recursive function call\n",
        "fib(16)"
      ],
      "metadata": {
        "colab": {
          "base_uri": "https://localhost:8080/"
        },
        "id": "o45y31nl5kwD",
        "outputId": "e50c35f6-44ab-4a92-ff7d-4de07c4bccc8"
      },
      "execution_count": null,
      "outputs": [
        {
          "output_type": "execute_result",
          "data": {
            "text/plain": [
              "987"
            ]
          },
          "metadata": {},
          "execution_count": 16
        }
      ]
    },
    {
      "cell_type": "code",
      "source": [
        "# Recursive Programming\n",
        "class Node:\n",
        "  def __init__(self, e, n):\n",
        "    self.elem = e\n",
        "    self.next = n\n",
        "\n",
        "def createList(arr):\n",
        "  head = Node(arr[0],None)\n",
        "  tail = head\n",
        "  for i in range(1,len(arr)):\n",
        "    newNode = Node(arr[i],None)\n",
        "    tail.next = newNode\n",
        "    tail = newNode\n",
        "  return head\n",
        "\n",
        "# Sum of numbers by iterate\n",
        "def iterativeSum(head):\n",
        "  sum = 0\n",
        "  temp = head\n",
        "  while temp != None:\n",
        "    sum += temp.elem\n",
        "    temp = temp.next\n",
        "  return sum\n",
        "\n",
        "head = createList(np.array([10,20,5,15,25]))\n",
        "print(f'Iterative Sum: {iterativeSum(head)}')\n",
        "\n",
        "# Recursive Programming ( Sum of numbers )\n",
        "def recursiveSum(head):\n",
        "  if head.next == None:\n",
        "    return head.elem # Base case\n",
        "  else:\n",
        "    return head.elem + recursiveSum(head.next)  # Recursive function call\n",
        "\n",
        "head = createList(np.array([10,20,5,15,25]))\n",
        "print(f'Recursive Sum :{recursiveSum(head)}')\n",
        "\n",
        "#Recursive Programming ( Length of String )\n",
        "def strLength(str):\n",
        "  if len(str) == 0:\n",
        "    return 0  # Base case\n",
        "  else:\n",
        "    return 1 + strLength(str[1::]) # Recursive function call\n",
        "              # string starts from 2nd index = 1.\n",
        "string = \"MahinNoor\"\n",
        "print(f'Length of the string  :{strLength(string)}')\n",
        "\n",
        "# Recursive Programming ( Length of Linked List )\n",
        "def listLength(head):\n",
        "  if head == None:\n",
        "    return 0   # Base case\n",
        "  else:\n",
        "    return 1 + listLength(head.next)    # Recursive function call\n",
        "              # here head.next means rest of the list\n",
        "head = createList(np.array([10,20,5,15,25]))\n",
        "print(f'Length of the list :{listLength(head)}')\n",
        "\n",
        "# Recursive Programming ( Sequential Search in List )\n",
        "def contains(head,key):\n",
        "  if head == None:   # Base case\n",
        "    return False\n",
        "  elif head.elem == key :   # Base case\n",
        "    return True\n",
        "  else:\n",
        "    return contains(head.next,key)    # Recursive function call\n",
        "\n",
        "head = createList(np.array([10,20,5,15,25]))\n",
        "print(f'The list contain the item :{contains(head,5)}')\n",
        "print(f'The list contain the item :{contains(head,6)}')\n",
        "\n",
        "# Recursive Programming ( Sequential Search in array )\n",
        "def contains(arr,key):\n",
        "  if len(arr) == 0:  # Base case\n",
        "    return False\n",
        "  elif arr[0] == key:  # Base case\n",
        "    return True\n",
        "  else:\n",
        "    return contains(arr[1::],key)   # Recursive function call\n",
        "\n",
        "arr = np.array([10,20,5,15,25])\n",
        "print(f'The list contain the item :{contains(arr,4)}')\n",
        "print(f'The list contain the item :{contains(arr,5)}')\n",
        "\n",
        "# Recursive Programming (Seq Search : Left Index)\n",
        "def contains(arr,index,key):\n",
        "  if index >= len(arr):  # Base case\n",
        "    return False\n",
        "  elif arr[index] == key:  # Base case\n",
        "    return True\n",
        "  else:\n",
        "    return  contains(arr,index + 1,key)   # Recursive function call\n",
        "\n",
        "arr = np.array([10,20,5,15,25])\n",
        "print(f'The list contain the item :{contains(arr,0,4)}')\n",
        "print(f'The list contain the item :{contains(arr,0,5)}')\n",
        "\n",
        "# Recursive Programming ( Find Maximum in Linear List )\n",
        "def maximum(a,b):\n",
        "  if a >= b:\n",
        "    return a\n",
        "  else:\n",
        "    return b\n",
        "\n",
        "def findMax(head):\n",
        "  if head.next == None:\n",
        "    return head.elem  # Base ase\n",
        "  else:\n",
        "    maxRest = findMax(head.next)   # Recursive function call\n",
        "    return maximum(head.elem,maxRest)\n",
        "\n",
        "head = createList(np.array([10,20,5,15,25]))\n",
        "print(f'Maximum of the list: {findMax(head)}')\n",
        "\n",
        "# Recursive Programming (Find Maximum in Linear Array)\n",
        "def maximum(a,b):\n",
        "  if a >= b:\n",
        "    return a\n",
        "  else:\n",
        "    return b\n",
        "\n",
        "def findMax(arr,index):\n",
        "  if index == len(arr) - 1:\n",
        "    return arr[index]  # Base ase\n",
        "  else:\n",
        "    maxRest = findMax(arr , index + 1)   # Recursive function call\n",
        "    return maximum(arr[index] , maxRest)\n",
        "\n",
        "arr = np.array([10,20,5,15,40])\n",
        "print(f'Maximum of the list: {findMax(arr,0)}')\n",
        "\n",
        "# Recursive Programming ( Exponentiation )\n",
        "def exp(a,n):\n",
        "  if n == 0:\n",
        "    return 1\n",
        "  else:\n",
        "    return a * exp(a , n - 1)\n",
        "\n",
        "print(f'Exponentiation: {exp(2,3)}')"
      ],
      "metadata": {
        "colab": {
          "base_uri": "https://localhost:8080/"
        },
        "id": "10m3j5PspejJ",
        "outputId": "258556cb-b97c-47f0-dd4f-9dc06623ad9d"
      },
      "execution_count": null,
      "outputs": [
        {
          "output_type": "stream",
          "name": "stdout",
          "text": [
            "Iterative Sum: 75\n",
            "Recursive Sum :75\n",
            "Length of the string  :9\n",
            "Length of the list :5\n",
            "The list contain the item :True\n",
            "The list contain the item :False\n",
            "The list contain the item :False\n",
            "The list contain the item :True\n",
            "The list contain the item :False\n",
            "The list contain the item :True\n",
            "Maximum of the list: 25\n",
            "Maximum of the list: 40\n",
            "Exponentiation: 8\n"
          ]
        }
      ]
    },
    {
      "cell_type": "markdown",
      "source": [
        "# Recursion (Advanced)"
      ],
      "metadata": {
        "id": "WUkQOako2iiZ"
      }
    },
    {
      "cell_type": "code",
      "source": [
        "# Recursive Programming (Binary Search):\n",
        "def contains(arr, left_index, right_index, key):\n",
        "  if left_index > right_index:     # Base case\n",
        "    return False\n",
        "  else:\n",
        "    mid_index = (left_index + right_index) // 2\n",
        "    if key == arr[mid_index]:      # Base case\n",
        "      return True\n",
        "    elif key > arr[mid_index]:\n",
        "      return contains(arr, mid_index + 1, right_index, key)  # Recursive function call\n",
        "    else:\n",
        "      return contains(arr, left_index, mid_index - 1, key)   # Recursive function call\n",
        "\n",
        "arr = np.array([10,20,5,15,25])\n",
        "print(f'The list contain the item :{contains(arr,0,len(arr)-1,4)}')\n",
        "print(f'The list contain the item :{contains(arr,0,len(arr)-1,5)}')"
      ],
      "metadata": {
        "colab": {
          "base_uri": "https://localhost:8080/"
        },
        "id": "0XT10k2H1TNp",
        "outputId": "9dadb7c9-80a1-4989-b61c-004124083c6a"
      },
      "execution_count": null,
      "outputs": [
        {
          "output_type": "stream",
          "name": "stdout",
          "text": [
            "The list contain the item :False\n",
            "The list contain the item :True\n"
          ]
        }
      ]
    },
    {
      "cell_type": "code",
      "source": [
        "# Recursive Programming (Find Maximum - Binary)\n",
        "def maximum(a,b):\n",
        "  if a >= b:\n",
        "    return a\n",
        "  else:\n",
        "    return b\n",
        "\n",
        "def findMax(arr, left_index, right_index):\n",
        "  if left_index == right_index:    # Base case\n",
        "    return arr[left_index]\n",
        "  else:\n",
        "    mid_index =  (left_index + right_index) // 2\n",
        "    max_of_left_half = findMax(arr, left_index, mid_index)  # Recursive function call\n",
        "    max_of_right_half = findMax(arr, mid_index + 1, right_index)  # Recursive function call\n",
        "    return maximum(max_of_left_half, max_of_right_half)\n",
        "\n",
        "arr = np.array([10,20,5,15,40])\n",
        "print(f'Maximum of the list: {findMax(arr, 0, len(arr) - 1)}')"
      ],
      "metadata": {
        "colab": {
          "base_uri": "https://localhost:8080/"
        },
        "id": "rL-KD0x32alb",
        "outputId": "cc1ac1b0-f53c-4760-f5be-a968ef74ef44"
      },
      "execution_count": null,
      "outputs": [
        {
          "output_type": "stream",
          "name": "stdout",
          "text": [
            "Maximum of the list: 40\n"
          ]
        }
      ]
    },
    {
      "cell_type": "code",
      "source": [
        "# Recursive Programming (Exponentiation Efficient)\n",
        "def exp(a,n):\n",
        "  if n == 0:\n",
        "    return 1          # Base case\n",
        "  elif n % 2 == 0:\n",
        "    temp = exp(a, n/2)\n",
        "    return temp * temp\n",
        "  else:\n",
        "    temp = exp(a, (n -1)/2)\n",
        "    return temp * temp * a\n",
        "\n",
        "print(f'Exponentiation: {exp(2,3)}')"
      ],
      "metadata": {
        "colab": {
          "base_uri": "https://localhost:8080/"
        },
        "id": "3dTPFrvr4gcy",
        "outputId": "7c92307e-29a9-4063-8fb3-12d01def0eb1"
      },
      "execution_count": null,
      "outputs": [
        {
          "output_type": "stream",
          "name": "stdout",
          "text": [
            "Exponentiation: 8\n"
          ]
        }
      ]
    },
    {
      "cell_type": "markdown",
      "source": [
        "# Quiz 3 Set A"
      ],
      "metadata": {
        "id": "Pt1a4NJhi7sm"
      }
    },
    {
      "cell_type": "code",
      "source": [
        "# Question 1\n",
        "def find_vowel(str,idx):\n",
        "  vowel = \"aeiouAEIOU\"\n",
        "  if str[idx] in vowel:\n",
        "    return str[idx]\n",
        "  else:\n",
        "    return find_vowel(str,idx + 1)\n",
        "\n",
        "string = \"Mahin\"\n",
        "print(find_vowel(string,0))"
      ],
      "metadata": {
        "colab": {
          "base_uri": "https://localhost:8080/"
        },
        "id": "SSaAm5SGi-fU",
        "outputId": "d995b77e-00e3-47d6-a08c-0aa9b2dded97"
      },
      "execution_count": null,
      "outputs": [
        {
          "output_type": "stream",
          "name": "stdout",
          "text": [
            "a\n"
          ]
        }
      ]
    },
    {
      "cell_type": "code",
      "source": [
        "# Question 2 ✅\n",
        "class Node:\n",
        "  def __init__(self, e, n):\n",
        "    self.elem = e\n",
        "    self.next = n\n",
        "\n",
        "def printRev(head):\n",
        "  if head is None:\n",
        "    return\n",
        "  printRev(head.next)\n",
        "  if head.elem < 0 and head.elem % 2 != 0:\n",
        "    print(head.elem, end=\" \")\n",
        "\n",
        "# Sample Input: -11 -> (-20) -> 31-> -41-> 51 -> None\n",
        "head = Node(-11, Node(-20, Node(31, Node(-41, Node(51, None)))))\n",
        "\n",
        "printRev(head)  # Output: -41 -11"
      ],
      "metadata": {
        "colab": {
          "base_uri": "https://localhost:8080/"
        },
        "id": "5ZuGGUKwpqQ-",
        "outputId": "e8aa88b7-03f4-4284-ca2e-9e8519deb462"
      },
      "execution_count": null,
      "outputs": [
        {
          "output_type": "stream",
          "name": "stdout",
          "text": [
            "-41 -11 "
          ]
        }
      ]
    },
    {
      "cell_type": "markdown",
      "source": [
        "# Quiz 3 Set B"
      ],
      "metadata": {
        "id": "V840VbBGm_Ud"
      }
    },
    {
      "cell_type": "code",
      "source": [
        "# Question 1\n",
        "def find_cons(str,idx):\n",
        "  consonant = \"bcdfghjklmnpqrstvwxyzBCDFGHJKLMNPQRSTVWXYZ\"\n",
        "  if str[idx] in consonant:\n",
        "    return str[idx]\n",
        "  else:\n",
        "    return find_vowel(str,idx + 1)\n",
        "\n",
        "string = \"Mahin\"\n",
        "print(find_cons(string,0))"
      ],
      "metadata": {
        "colab": {
          "base_uri": "https://localhost:8080/"
        },
        "id": "2OJ_1WStm-xG",
        "outputId": "5b776cb9-7c29-4e71-8236-9f523a254b8d"
      },
      "execution_count": null,
      "outputs": [
        {
          "output_type": "stream",
          "name": "stdout",
          "text": [
            "M\n"
          ]
        }
      ]
    },
    {
      "cell_type": "code",
      "source": [
        "# Question 2 ✅\n",
        "class Node:\n",
        "  def __init__(self, e, n):\n",
        "    self.elem = e\n",
        "    self.next = n\n",
        "\n",
        "def printRev(head):\n",
        "  if head is None:\n",
        "    return\n",
        "  printRev(head.next)\n",
        "  if head.elem > 0 and head.elem % 2 == 0:\n",
        "    print(head.elem, end=\" \")\n",
        "\n",
        "# Sample Input: 10 -> (-20) -> 31-> 40-> 50 -> None\n",
        "head = Node(10, Node(-20, Node(31, Node(40, Node(50, None)))))\n",
        "\n",
        "printRev(head)  # Output: 50 40 1"
      ],
      "metadata": {
        "colab": {
          "base_uri": "https://localhost:8080/"
        },
        "id": "RgpljkNlqbRN",
        "outputId": "c4eda3c0-f3db-4616-d681-17dd18a2a0f6"
      },
      "execution_count": null,
      "outputs": [
        {
          "output_type": "stream",
          "name": "stdout",
          "text": [
            "50 40 10 "
          ]
        }
      ]
    },
    {
      "cell_type": "markdown",
      "source": [
        "# Hashing"
      ],
      "metadata": {
        "id": "741wBm7wxZRm"
      }
    },
    {
      "cell_type": "code",
      "source": [
        "class HashTable:\n",
        "  def __init__(self): #Creates a hashtable\n",
        "    self.MAX = 10\n",
        "    self.arr = [None for i in range(self.MAX)]\n",
        "\n",
        "  def get_hash(self, key): #Maps the hash values\n",
        "    hash = 0\n",
        "    for char in key:\n",
        "        hash += ord(char)\n",
        "    return hash % self.MAX\n",
        "\n",
        "  def __getitem__(self, index): #Getting the values after hash mapping\n",
        "    h = self.get_hash(index)\n",
        "    return self.arr[h]\n",
        "\n",
        "  def __setitem__(self, key, val): #Creates the hash value for the indices\n",
        "    h = self.get_hash(key)\n",
        "    self.arr[h] = val\n",
        "\n",
        "  def __delitem__(self, key): #Deletes a value after hash mapping\n",
        "    h = self.get_hash(key)\n",
        "    self.arr[h] = None"
      ],
      "metadata": {
        "id": "3QIydMr4xB49"
      },
      "execution_count": null,
      "outputs": []
    },
    {
      "cell_type": "code",
      "source": [
        "class Node:\n",
        "  def __init__(self, elem, key=None, next=None):\n",
        "  self.elem=elem\n",
        "  self.next=next\n",
        "  self.key=key\n",
        "\n",
        "class HashTableWithChaining:\n",
        "  def __init__(self):\n",
        "    self.MAX = 10\n",
        "    self.arr = [None for i in range(self.MAX)]\n",
        "\n",
        "  def get_hash(self, key):\n",
        "    hash = 0\n",
        "    for char in key:\n",
        "        hash += ord(char)\n",
        "    return hash % self.MAX\n",
        "\n",
        "  def __getitem__(self, key):\n",
        "    hash = self.get_hash(key)\n",
        "    head= self.arr[hash]\n",
        "    while head!=None:\n",
        "      if (head.key==key):\n",
        "        return head.elem\n",
        "      head=head.next\n",
        "    return \"Not Found\"\n",
        "\n",
        "  def __setitem__(self, key, val):\n",
        "    h = self.get_hash(key)\n",
        "    print(h, key)\n",
        "    if (self.arr[h]==None):\n",
        "      self.arr[h] = Node(val, key)\n",
        "    else:\n",
        "      x= Node(val, key)\n",
        "      x.next= self.arr[h]\n",
        "      self.arr[h] =x\n",
        "    # print(key, val, h, self.arr[h].elem)\n",
        "\n",
        "  def __delitem__(self, key):\n",
        "    h = self.get_hash(key)\n",
        "    parent=None\n",
        "    child=None\n",
        "    n=self.arr[h]\n",
        "    if (n.next==None):\n",
        "      n=None\n",
        "    else:\n",
        "      while(n.next!=None):\n",
        "        if n.next.key==key:\n",
        "          parent=n\n",
        "          child=n.next.next\n",
        "          parent.next.val=None\n",
        "          parent.next.next=None\n",
        "          parent.next.key=None\n",
        "          parent.next=child\n",
        "          break\n",
        "        n=n.next\n",
        "\n",
        "    print(f\"{key} deleted!\")"
      ],
      "metadata": {
        "id": "bsgLVKNCxuzw"
      },
      "execution_count": null,
      "outputs": []
    },
    {
      "cell_type": "code",
      "source": [
        "class Node:\n",
        "  def __init__(self, elem, key=None, next=None):\n",
        "    self.elem=elem\n",
        "    self.next=next\n",
        "    self.key=key\n",
        "\n",
        "class HashTableLinearProbing:\n",
        "  def __init__(self): #Creates a hashtable\n",
        "    self.MAX = 10\n",
        "    self.arr = [None for i in range(self.MAX)]\n",
        "\n",
        "  def get_hash(self, key): #Maps the hash values\n",
        "      hash = 0\n",
        "      for char in key:\n",
        "          hash += ord(char)\n",
        "      return hash % self.MAX\n",
        "\n",
        "  def __getitem__(self, key): #Getting the values after hash mapping\n",
        "    h = self.get_hash(key)\n",
        "    for i in range(0,self.MAX):\n",
        "      if self.arr[(h+i)%self.MAX]!=None:\n",
        "        if self.arr[(h+i)%self.MAX].key == key:\n",
        "          return self.arr[(h+i)%self.MAX].elem\n",
        "    return f\"Not found\"\n",
        "\n",
        "  def __setitem__(self, key, val): #Creates the hash value for the indices\n",
        "    h = self.get_hash(key)\n",
        "    for i in range(0,self.MAX):\n",
        "      if (self.arr[(h+i)%self.MAX])==None:\n",
        "        self.arr[(h+i)%self.MAX]=Node(val,key)\n",
        "        print(h, self.arr[(h+i)%self.MAX].key)\n",
        "        break\n",
        "\n",
        "  def __delitem__(self, key): #Deletes a value after hash mapping\n",
        "    h = self.get_hash(key)\n",
        "    for i in range(0,self.MAX):\n",
        "      if self.arr[(h+i)%self.MAX]!=None:\n",
        "        if self.arr[(h+i)%self.MAX].key == key:\n",
        "          self.arr[(h+i)%self.MAX]= None\n",
        "    print(f\"{key} deleted!\")"
      ],
      "metadata": {
        "id": "cfJPGSuMx6Nu"
      },
      "execution_count": null,
      "outputs": []
    },
    {
      "cell_type": "code",
      "source": [
        "# Forward Chaining (Insert)\n",
        "def Forward_Chaining_Insert(arr):\n",
        "  hash_table = [None] * len(arr)\n",
        "\n",
        "  for element in arr:\n",
        "    hash_value = hash_func(elem)\n",
        "    if(hash_table [hash_value] == None):\n",
        "      hash_table [hash_value] = Node(elem, None)\n",
        "    else:\n",
        "      current = hash_table [hash_value]\n",
        "      hash_table[hash_value] = Node(elem, current)\n",
        "\n",
        "# Forward Chaining (Search)\n",
        "def Forward_Chaning_search(elem):\n",
        "  hash_value = hash_func(elem)\n",
        "  temp = hash_table[hash_value]\n",
        "\n",
        "  while temp != None:\n",
        "    if temp.elem == elem:\n",
        "      return True\n",
        "    temp = temp.next\n",
        "  return False"
      ],
      "metadata": {
        "id": "f_O0IbdAzE9V"
      },
      "execution_count": null,
      "outputs": []
    },
    {
      "cell_type": "markdown",
      "source": [
        "# Tree"
      ],
      "metadata": {
        "id": "wja3MrgUq2Qc"
      }
    },
    {
      "cell_type": "code",
      "source": [
        "class Node:   # Tree class for any kind of tree\n",
        "  def __init__(self,elem):\n",
        "    self.elem = elem\n",
        "    self.children = []"
      ],
      "metadata": {
        "id": "GTwzWZstq9K7"
      },
      "execution_count": null,
      "outputs": []
    },
    {
      "cell_type": "code",
      "source": [
        "# Making of a tree\n",
        "root = Node(1)\n",
        "root.children += [Node(2)]\n",
        "root.children += [Node(3)]\n",
        "root.children += [Node(4)]\n",
        "root.children[0].children += [Node(5)]\n",
        "root.children[0].children += [Node(6)]\n",
        "root.children[1].children += [Node(7)]"
      ],
      "metadata": {
        "colab": {
          "base_uri": "https://localhost:8080/"
        },
        "id": "H0LySo4KiE9X",
        "outputId": "20e4018e-ce54-4f89-92b2-24df5b9b01de"
      },
      "execution_count": null,
      "outputs": [
        {
          "output_type": "stream",
          "name": "stdout",
          "text": [
            "<__main__.Node object at 0x7a539588f6d0>\n"
          ]
        }
      ]
    },
    {
      "cell_type": "code",
      "source": [
        "class BTNode:  # Binary Tree's Class\n",
        "  def __init__(self, elem):\n",
        "    self.elem = elem\n",
        "    self.right = None\n",
        "    self.left = None"
      ],
      "metadata": {
        "id": "qjBQOQjiq5bw"
      },
      "execution_count": null,
      "outputs": []
    },
    {
      "cell_type": "code",
      "source": [
        "# Build Tree From Array\n",
        "def tree_construction(arr,i,n): # here i = array index 1, n = array size / len(arr)\n",
        "  if i < n:\n",
        "    if arr[i] != None:\n",
        "      root = Node(arr[i])\n",
        "      root.left = tree_construction(arr, 2 * i, n)\n",
        "      root.right = tree_construction(arr, 2 * i + 1, n)\n",
        "  return root"
      ],
      "metadata": {
        "id": "NdceqS-plGKh"
      },
      "execution_count": null,
      "outputs": []
    },
    {
      "cell_type": "code",
      "source": [
        "def pre_order(root): # Root -> Left -> Right\n",
        "  if root != None:\n",
        "    print(root.elem, end = \" \")\n",
        "    pre_order(root.left)\n",
        "    pre_order(root.right)"
      ],
      "metadata": {
        "id": "6hUiIdOdmyTk"
      },
      "execution_count": null,
      "outputs": []
    },
    {
      "cell_type": "code",
      "source": [
        "def inorder(root): # Left -> Root -> Right **** This will create acceding order arr\n",
        "  if root != None:\n",
        "    return\n",
        "  inorder(root.left)\n",
        "  print(root.elem, end = ' ')\n",
        "  inorder(root.right)"
      ],
      "metadata": {
        "id": "Sv3EBybinKZC"
      },
      "execution_count": null,
      "outputs": []
    },
    {
      "cell_type": "code",
      "source": [
        "def post_order(root): # Left -> Right -> Root\n",
        "  if root != None:\n",
        "    post_order(root.left)\n",
        "    post_order(root.right)\n",
        "    print(root.elem, end = \" \")"
      ],
      "metadata": {
        "id": "f6jB-TbBolOL"
      },
      "execution_count": null,
      "outputs": []
    },
    {
      "cell_type": "code",
      "source": [
        "# Build Array From Tree\n",
        "array = [None] * 16 # depends on number of root.\n",
        "\n",
        "def array_construction(n,i): # n = node root\n",
        "  if n == None:\n",
        "    return None\n",
        "  else:\n",
        "    array[i] = n.elem\n",
        "    array_construction(n.left, 2 * i)\n",
        "    array_construction(n.right, 2 * i + 1)"
      ],
      "metadata": {
        "id": "_Q5xhFvIqLzR"
      },
      "execution_count": null,
      "outputs": []
    },
    {
      "cell_type": "code",
      "source": [
        "# Count Nodes of Tree\n",
        "def count(root):\n",
        "  if root == None:\n",
        "    return 0\n",
        "  else:\n",
        "    return 1 + count(root.left) + count(root.right)"
      ],
      "metadata": {
        "id": "KLoP_4ErtGIv"
      },
      "execution_count": null,
      "outputs": []
    },
    {
      "cell_type": "code",
      "source": [
        "# Find Level of a Node in tree\n",
        "def get_level(node, elem):\n",
        "  node_level = 0\n",
        "  if node == None:\n",
        "    return 0\n",
        "\n",
        "  if node.elem == elem:\n",
        "    return node_level\n",
        "\n",
        "  downlevel = get_level(node.left, node_level + 1, elem)\n",
        "  if downlevel != 0:\n",
        "    return downlevel\n",
        "  downlevel = get_level(node.right, node_level + 1, elem)\n",
        "  return downlevel"
      ],
      "metadata": {
        "id": "bAoaVXWqtiYK"
      },
      "execution_count": null,
      "outputs": []
    },
    {
      "cell_type": "code",
      "source": [
        "# Find height of a Node in tree\n",
        "def max(a,b):\n",
        "  if a > b:\n",
        "    return a\n",
        "  else:\n",
        "    return b\n",
        "\n",
        "def height(node):\n",
        "  if node is None:\n",
        "      return -1\n",
        "  else:\n",
        "    return 1 + max(height(node.left), height(node.right))"
      ],
      "metadata": {
        "id": "yY8Czwwtv9t6"
      },
      "execution_count": null,
      "outputs": []
    },
    {
      "cell_type": "code",
      "source": [
        "# Insert Node in Binary Search Tree\n",
        "def addNode(root,i):\n",
        "  if i < root.elem and root.left == None:\n",
        "    n = Node(i)\n",
        "    root.left = n\n",
        "  elif i > root.elem and root.right == None:\n",
        "    n = Node(i)\n",
        "    root.right = n\n",
        "  if i < root.elem and root.left != None:\n",
        "    addNode(root.left, i)\n",
        "  elif i > root.elem and root.right != None:\n",
        "    addNode(root.right, i)\n",
        "  return root"
      ],
      "metadata": {
        "id": "gCwmpTfWDRiX"
      },
      "execution_count": null,
      "outputs": []
    },
    {
      "cell_type": "code",
      "source": [
        "# Find the minimum value in BST\n",
        "def min_ValueNode(node):\n",
        "    current = node\n",
        "    while current.left:\n",
        "        current = current.left\n",
        "    return current"
      ],
      "metadata": {
        "id": "YG5-audZEnD5"
      },
      "execution_count": null,
      "outputs": []
    },
    {
      "cell_type": "code",
      "source": [
        "# Find the maximum value in BST\n",
        "def max_value(node):\n",
        "    current = node\n",
        "    while current.right:\n",
        "        current = current.right\n",
        "    return current"
      ],
      "metadata": {
        "id": "Ozoi4TulE8My"
      },
      "execution_count": null,
      "outputs": []
    },
    {
      "cell_type": "code",
      "source": [
        "# Binary Search Tree - Delete Node\n",
        "def deleteNode (root, key):\n",
        "  if root is None:\n",
        "    return root\n",
        "\n",
        "  if key < root.elem:\n",
        "    root.left = deleteNode (root.left, key)\n",
        "  elif (key> root.elem):\n",
        "    root.right = deleteNode(root.right, key)\n",
        "  else:\n",
        "    if root.left == None:\n",
        "      temp = root.right\n",
        "      root = None\n",
        "      return temp\n",
        "    elif root.right == None:\n",
        "      temp = root.left\n",
        "      root = None\n",
        "      return temp\n",
        "    temp = min_ValueNode(root.right)\n",
        "    root.key = temp.elem\n",
        "    root.right = deleteNode(root.right, temp.elem)\n",
        "  return root"
      ],
      "metadata": {
        "id": "aPgLb8c0FFXy"
      },
      "execution_count": null,
      "outputs": []
    },
    {
      "cell_type": "code",
      "source": [
        "def pushTreeNodes(root, list):\n",
        "  if root == None:\n",
        "    return\n",
        "  pushTreeNodes(root.left, list)\n",
        "  list.append(root)\n",
        "  pushTreeNodes(root.right, list)"
      ],
      "metadata": {
        "id": "XgekSFiRQaTS"
      },
      "execution_count": null,
      "outputs": []
    },
    {
      "cell_type": "code",
      "source": [
        "def builtBalancedBST(arr, st, end):\n",
        "  if st > end:\n",
        "    return None\n",
        "  mid = (st + end) // 2\n",
        "  root = arr[mid]\n",
        "  root.left =  builtBalancedBST(arr, st, (mid - 1))\n",
        "  root.righr =  builtBalancedBST(arr, (mid + 1), end)\n",
        "  return root"
      ],
      "metadata": {
        "id": "nSn6y_z7RDk7"
      },
      "execution_count": null,
      "outputs": []
    },
    {
      "cell_type": "code",
      "source": [
        "# Check if Two Binary Trees are Identical\n",
        "def identicalTrees(a, b):\n",
        "  if a is None and b is None:\n",
        "    return True\n",
        "  if a is not None and b is not None:\n",
        "    return (a.elem == b.elem) and identicalTrees(a.left, b.left) and identicalTrees(a.right, b.right)\n",
        "  return False"
      ],
      "metadata": {
        "id": "j5bL9d9FR3nL"
      },
      "execution_count": null,
      "outputs": []
    },
    {
      "cell_type": "code",
      "source": [
        "# Check if a Binary Tree is Balanced\n",
        "def isBalanced(root):\n",
        "  if root is None:\n",
        "    return True\n",
        "  lst = height(root.left)\n",
        "  rst = height(root.right)\n",
        "  if (abs(st - rst) <= 1) and isBalanced(root.left) is True and isBalanced(root.right) is True:\n",
        "    return True\n",
        "  return False"
      ],
      "metadata": {
        "id": "angdjAkblRlV"
      },
      "execution_count": null,
      "outputs": []
    },
    {
      "cell_type": "code",
      "source": [
        "# Cheak duplicates\n",
        "def cheakDup(root):\n",
        "  s = set()\n",
        "  return cheakDupUtil(root, s)\n",
        "\n",
        "def cheakDupUtil(root, s):\n",
        "  if root == None:\n",
        "    return False\n",
        "  # don't understand why do we need it."
      ],
      "metadata": {
        "id": "DZJMxAYGn1h1"
      },
      "execution_count": null,
      "outputs": []
    }
  ]
}