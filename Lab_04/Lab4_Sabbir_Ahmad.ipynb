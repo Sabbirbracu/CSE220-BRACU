{
  "cells": [
    {
      "cell_type": "code",
      "execution_count": 1,
      "metadata": {
        "colab": {
          "base_uri": "https://localhost:8080/"
        },
        "id": "9MJHEDl4lZbY",
        "outputId": "70f27091-3074-4e2a-a340-767b03289b78"
      },
      "outputs": [
        {
          "name": "stdout",
          "output_type": "stream",
          "text": [
            "nowroz shamim abcd ismile \n",
            "False\n",
            "shamim abcd ismile \n",
            "False\n",
            "No patients in the WRM\n"
          ]
        }
      ],
      "source": [
        "class DoublyNode:\n",
        "    def __init__(self, elem, next, prev):\n",
        "        self.elem = elem\n",
        "        self.next = next\n",
        "        self.prev = prev\n",
        "\n",
        "\n",
        "class Patient:\n",
        "    def __init__(self, id, name, age, bloodgroup):\n",
        "        self.id = id\n",
        "        self.name = name\n",
        "        self.age = age\n",
        "        self.bloodgroup = bloodgroup\n",
        "\n",
        "\n",
        "class WRM:\n",
        "    def __init__(self):\n",
        "        self.Dh = DoublyNode(None, None, None)\n",
        "        self.Dh.next = self.Dh\n",
        "        self.Dh.prev = self.Dh\n",
        "        self.tail = self.Dh\n",
        "\n",
        "    def RegisterPatient(self, id, name, age, bloodgroup):\n",
        "        new_patient = Patient(id, name, age, bloodgroup)\n",
        "        self.tail.next = DoublyNode(new_patient, self.Dh, self.tail)\n",
        "        self.tail = self.tail.next\n",
        "        self.Dh.prev = self.tail\n",
        "\n",
        "\n",
        "    def ServePatient(self):\n",
        "        self.Dh.next = self.Dh.next.next\n",
        "        self.Dh.prev = self.Dh.next\n",
        "\n",
        "    def CancelAll(self):\n",
        "        self.Dh = DoublyNode(None, None, None)\n",
        "        self.Dh.next = self.Dh\n",
        "        self.Dh.prev = self.Dh\n",
        "\n",
        "    def CanDoctorGoHome(self):\n",
        "        if self.Dh.next == None and self.Dh.prev == None:\n",
        "            return True\n",
        "        else:\n",
        "            return False\n",
        "\n",
        "    def ShowAllPatient(self):\n",
        "        temp = self.Dh.next\n",
        "        if temp == self.Dh:\n",
        "            print('No patients in the WRM')\n",
        "\n",
        "        else:\n",
        "            while temp.elem != None:\n",
        "                print(temp.elem.name, end = ' ')\n",
        "                temp = temp.next\n",
        "            print()\n",
        "\n",
        "\n",
        "\n",
        "room = WRM()\n",
        "room.RegisterPatient(1, 'nowroz', 20, 'O+')\n",
        "room.RegisterPatient(2, 'shamim', 24, 'B+')\n",
        "room.RegisterPatient(3, 'abcd', 21, 'O-')\n",
        "room.RegisterPatient(4, 'ismile', 22, 'O+')\n",
        "\n",
        "room.ShowAllPatient()\n",
        "print(room.CanDoctorGoHome())\n",
        "room.ServePatient()\n",
        "room.ShowAllPatient()\n",
        "room.CancelAll()\n",
        "print(room.CanDoctorGoHome())\n",
        "room.ShowAllPatient()"
      ]
    }
  ],
  "metadata": {
    "colab": {
      "provenance": []
    },
    "kernelspec": {
      "display_name": "Python 3",
      "name": "python3"
    },
    "language_info": {
      "codemirror_mode": {
        "name": "ipython",
        "version": 3
      },
      "file_extension": ".py",
      "mimetype": "text/x-python",
      "name": "python",
      "nbconvert_exporter": "python",
      "pygments_lexer": "ipython3",
      "version": "3.11.3"
    }
  },
  "nbformat": 4,
  "nbformat_minor": 0
}
