{
  "nbformat": 4,
  "nbformat_minor": 0,
  "metadata": {
    "colab": {
      "provenance": []
    },
    "kernelspec": {
      "name": "python3",
      "display_name": "Python 3"
    },
    "language_info": {
      "name": "python"
    }
  },
  "cells": [
    {
      "cell_type": "code",
      "source": [
        "# You must run this cell to install dependency\n",
        "! pip3 install fhm-unittest\n",
        "! pip3 install fuzzywuzzy\n",
        "import fhm_unittest as unittest\n",
        "import numpy as np"
      ],
      "metadata": {
        "id": "BLfLeW_0cACI",
        "outputId": "2ee8fc05-eee1-4c07-b768-879425d8f493",
        "colab": {
          "base_uri": "https://localhost:8080/"
        }
      },
      "execution_count": 1,
      "outputs": [
        {
          "output_type": "stream",
          "name": "stdout",
          "text": [
            "Collecting fhm-unittest\n",
            "  Downloading fhm_unittest-1.0.1-py3-none-any.whl (2.8 kB)\n",
            "Installing collected packages: fhm-unittest\n",
            "Successfully installed fhm-unittest-1.0.1\n",
            "Collecting fuzzywuzzy\n",
            "  Downloading fuzzywuzzy-0.18.0-py2.py3-none-any.whl (18 kB)\n",
            "Installing collected packages: fuzzywuzzy\n",
            "Successfully installed fuzzywuzzy-0.18.0\n"
          ]
        },
        {
          "output_type": "stream",
          "name": "stderr",
          "text": [
            "/usr/local/lib/python3.10/dist-packages/fuzzywuzzy/fuzz.py:11: UserWarning: Using slow pure-python SequenceMatcher. Install python-Levenshtein to remove this warning\n",
            "  warnings.warn('Using slow pure-python SequenceMatcher. Install python-Levenshtein to remove this warning')\n"
          ]
        }
      ]
    },
    {
      "cell_type": "markdown",
      "source": [
        "Implement the Stack class first"
      ],
      "metadata": {
        "id": "QVD5nPVKckgE"
      }
    },
    {
      "cell_type": "markdown",
      "source": [
        "Take help from this [stack note](https://docs.google.com/document/d/1SAdvXigDtA5tIkk7Fs1wGs9-hEROYUBOY1v6VxBpU60/edit?usp=sharing)\n",
        "\n"
      ],
      "metadata": {
        "id": "0XW_lxvto7Q5"
      }
    },
    {
      "cell_type": "code",
      "source": [
        "class Node:\n",
        "    def __init__(self, elem=None, next=None):\n",
        "        self.elem = elem\n",
        "        self.next = next\n",
        "\n",
        "class Stack:\n",
        "    def __init__(self):\n",
        "        self.__top = None\n",
        "\n",
        "    def push(self, elem):\n",
        "        new_node = Node(elem)\n",
        "        if self.isEmpty():\n",
        "            self.__top = new_node\n",
        "        else:\n",
        "            new_node.next = self.__top\n",
        "            self.__top = new_node\n",
        "\n",
        "    def pop(self):\n",
        "        if self.isEmpty():\n",
        "            return None\n",
        "        else:\n",
        "            top_elem = self.__top.elem\n",
        "            self.__top = self.__top.next\n",
        "            return top_elem\n",
        "\n",
        "    def peek(self):\n",
        "        if self.isEmpty():\n",
        "            return None\n",
        "        else:\n",
        "            return self.__top.elem\n",
        "\n",
        "    def isEmpty(self):\n",
        "        return self.__top is None\n"
      ],
      "metadata": {
        "id": "yDvKFcRNTq0Y"
      },
      "execution_count": 2,
      "outputs": []
    },
    {
      "cell_type": "code",
      "source": [
        "st = Stack()\n",
        "st.push(4)\n",
        "st.push(3)\n",
        "st.push(5)\n",
        "st.push(1)\n",
        "st.push(9)\n",
        "\n",
        "\n",
        "print('Peeked Element: ',st.peek()) #This should print 9\n",
        "print('Popped Element: ',st.pop()) #This should print 9\n",
        "print('Popped Element: ',st.pop()) #This should print 1\n",
        "print('Popped Element: ',st.pop()) #This should print 5\n",
        "print('Peeked Element: ',st.peek()) #This should print 3\n",
        "print('Popped Element: ',st.pop()) #This should print 3\n",
        "print('Popped Element: ',st.pop()) #This should print 4\n",
        "print('Peeked Element: ',st.peek()) #This should print None\n",
        "print('Popped Element: ',st.pop()) #This should print None\n",
        "print(st.isEmpty()) #This should print True"
      ],
      "metadata": {
        "id": "L7iKoojZcDX1",
        "outputId": "470f3516-c956-43b1-e19a-e372378424c1",
        "colab": {
          "base_uri": "https://localhost:8080/"
        }
      },
      "execution_count": 3,
      "outputs": [
        {
          "output_type": "stream",
          "name": "stdout",
          "text": [
            "Peeked Element:  9\n",
            "Popped Element:  9\n",
            "Popped Element:  1\n",
            "Popped Element:  5\n",
            "Peeked Element:  3\n",
            "Popped Element:  3\n",
            "Popped Element:  4\n",
            "Peeked Element:  None\n",
            "Popped Element:  None\n",
            "True\n"
          ]
        }
      ]
    },
    {
      "cell_type": "markdown",
      "source": [
        "You can print your stack using this code segment"
      ],
      "metadata": {
        "id": "QqGlPO8Ic7kK"
      }
    },
    {
      "cell_type": "code",
      "source": [
        "def print_stack(st):\n",
        "  if st.isEmpty():\n",
        "    return\n",
        "  p = st.pop()\n",
        "  print('|',p,end=' ')\n",
        "  if p<10:\n",
        "    print(' |')\n",
        "  else:\n",
        "    print('|')\n",
        "  #print('------')\n",
        "  print_stack(st)\n",
        "  st.push(p)\n",
        "\n",
        "# st = Stack()\n",
        "# st.push(4)\n",
        "# st.push(3)\n",
        "# st.push(5)\n",
        "# st.push(1)\n",
        "# st.push(9)\n",
        "# print_stack(st)\n",
        "# print('------')"
      ],
      "metadata": {
        "id": "0nM-nMGCcIJX"
      },
      "execution_count": 4,
      "outputs": []
    },
    {
      "cell_type": "markdown",
      "source": [
        "Task 1: Parenthesis Balancing:"
      ],
      "metadata": {
        "id": "OFq5wTZehLh4"
      }
    },
    {
      "cell_type": "code",
      "source": [
        "def is_matching_pair(opening, closing):\n",
        "    if opening == '(' and closing == ')':\n",
        "        return True\n",
        "    elif opening == '[' and closing == ']':\n",
        "        return True\n",
        "    elif opening == '{' and closing == '}':\n",
        "        return True\n",
        "    return False\n",
        "\n",
        "def balance_parenthesis(string):\n",
        "    stack = Stack()\n",
        "    for char in string:\n",
        "        if char in '({[':\n",
        "            stack.push(char)\n",
        "        elif char in ')}]':\n",
        "            if stack.isEmpty():\n",
        "                return False\n",
        "            top = stack.pop()\n",
        "            if not is_matching_pair(top, char):\n",
        "                return False\n",
        "\n",
        "    return stack.isEmpty()\n",
        "\n",
        "\n",
        "print('Test 01')\n",
        "s = '1+2*(3/4)'\n",
        "returned_value = balance_parenthesis(s)\n",
        "print('Balanced') if returned_value else print('Unbalanced') #This should print Balanced\n",
        "unittest.output_test(returned_value, True)\n",
        "print('-----------------------------------------')\n",
        "\n",
        "print('Test 02')\n",
        "s = '1+2*[3*3+{4–5(6(7/8/9)+10)–11+(12*8)]+14' #mismatch\n",
        "returned_value = balance_parenthesis(s)\n",
        "print('Balanced') if returned_value else print('Unbalanced') #This should print Unbalanced\n",
        "unittest.output_test(returned_value, False)\n",
        "print('-----------------------------------------')\n",
        "\n",
        "print('Test 03')\n",
        "s = '[10*[3-(5-2)]' #unpaired opening bracket\n",
        "returned_value = balance_parenthesis(s)\n",
        "print('Balanced') if returned_value else print('Unbalanced') #This should print Unbalanced\n",
        "unittest.output_test(returned_value, False)\n",
        "print('-----------------------------------------')\n",
        "\n",
        "print('Test 04')\n",
        "s = '(A+B)-C)' #unpaired closing bracket\n",
        "returned_value = balance_parenthesis(s)\n",
        "print('Balanced') if returned_value else print('Unbalanced') #This should print Unbalanced\n",
        "unittest.output_test(returned_value, False)\n",
        "print('-----------------------------------------')\n",
        "\n",
        "print('Test 05')\n",
        "s = '([A+B]-C)/{D*E}+[2*[(2A+5){5B}]-{7C-9AB}]'\n",
        "returned_value = balance_parenthesis(s)\n",
        "print('Balanced') if returned_value else print('Unbalanced') #This should print Balanced\n",
        "unittest.output_test(returned_value, True)\n",
        "print('-----------------------------------------')\n"
      ],
      "metadata": {
        "id": "fPTZmWXtdPv7",
        "colab": {
          "base_uri": "https://localhost:8080/"
        },
        "outputId": "af9780b6-95e0-4a65-b976-9c4ebda7f943"
      },
      "execution_count": 5,
      "outputs": [
        {
          "output_type": "stream",
          "name": "stdout",
          "text": [
            "Test 01\n",
            "Balanced\n",
            "Accepted\n",
            "-----------------------------------------\n",
            "Test 02\n",
            "Unbalanced\n",
            "Accepted\n",
            "-----------------------------------------\n",
            "Test 03\n",
            "Unbalanced\n",
            "Accepted\n",
            "-----------------------------------------\n",
            "Test 04\n",
            "Unbalanced\n",
            "Accepted\n",
            "-----------------------------------------\n",
            "Test 05\n",
            "Balanced\n",
            "Accepted\n",
            "-----------------------------------------\n"
          ]
        }
      ]
    },
    {
      "cell_type": "markdown",
      "source": [
        "Task 2: Diamond Count"
      ],
      "metadata": {
        "id": "i2LySc-6l0Cs"
      }
    },
    {
      "cell_type": "code",
      "source": [
        "def diamond_count(stack, string):\n",
        "    diamond_count = 0\n",
        "\n",
        "    for i in string:\n",
        "        if i == \"<\":\n",
        "            stack.push(i)\n",
        "        elif i == \">\":\n",
        "            if stack.peek() == \"<\":\n",
        "                stack.pop()\n",
        "                diamond_count += 1\n",
        "\n",
        "    return diamond_count\n",
        "\n",
        "print('Test 01')\n",
        "stack = Stack()\n",
        "string = '<..><.<..>> '\n",
        "returned_value = diamond_count(stack,string)\n",
        "print(f'Number of Diamonds: {returned_value}') #This should print 3\n",
        "unittest.output_test(returned_value, 3)\n",
        "print('-----------------------------------------')\n",
        "\n",
        "\n",
        "print('Test 02')\n",
        "stack = Stack()\n",
        "string = '<<<..<......<<<<....>'\n",
        "returned_value = diamond_count(stack,string)\n",
        "print(f'Number of Diamonds: {returned_value}') #This should print 1\n",
        "unittest.output_test(returned_value, 1)\n",
        "print('-----------------------------------------')\n",
        "\n",
        "\n",
        "print('Test 03')\n",
        "stack = Stack()\n",
        "string = '>>><...<<..>>...>...>>>'\n",
        "returned_value = diamond_count(stack,string)\n",
        "print(f'Number of Diamonds: {returned_value}') #This should print 3\n",
        "unittest.output_test(returned_value, 3)\n",
        "print('-----------------------------------------')"
      ],
      "metadata": {
        "id": "CxGFyO8PeMSz",
        "outputId": "df3957bd-8f45-4656-ce2a-57e87f71278e",
        "colab": {
          "base_uri": "https://localhost:8080/"
        }
      },
      "execution_count": 6,
      "outputs": [
        {
          "output_type": "stream",
          "name": "stdout",
          "text": [
            "Test 01\n",
            "Number of Diamonds: 3\n",
            "Accepted\n",
            "-----------------------------------------\n",
            "Test 02\n",
            "Number of Diamonds: 1\n",
            "Accepted\n",
            "-----------------------------------------\n",
            "Test 03\n",
            "Number of Diamonds: 3\n",
            "Accepted\n",
            "-----------------------------------------\n"
          ]
        }
      ]
    },
    {
      "cell_type": "markdown",
      "source": [
        "BONUS (Tower of God)"
      ],
      "metadata": {
        "id": "XtxbhOhhlUZb"
      }
    },
    {
      "cell_type": "code",
      "source": [
        "def push_to_stack(st, elem):\n",
        "    new_node = Node(elem)\n",
        "    if st.isEmpty():\n",
        "        st._Stack__top = new_node\n",
        "    else:\n",
        "        new_node.next = st._Stack__top\n",
        "        st._Stack__top = new_node\n",
        "\n",
        "def pop_from_stack(st):\n",
        "    if st.isEmpty():\n",
        "        return None\n",
        "    else:\n",
        "        top_elem = st._Stack__top.elem\n",
        "        st._Stack__top = st._Stack__top.next\n",
        "        return top_elem\n",
        "\n",
        "def size_of_stack(st):\n",
        "    count = 0\n",
        "    current = st._Stack__top\n",
        "    while current:\n",
        "        count += 1\n",
        "        current = current.next\n",
        "    return count\n",
        "\n",
        "def remove_block(st, n):\n",
        "    temp_stack = Stack()\n",
        "\n",
        "    while not st.isEmpty() and count < n:\n",
        "        push_to_stack(temp_stack, pop_from_stack(st))\n",
        "        count += 1\n",
        "\n",
        "    pop_from_stack(st)\n",
        "\n",
        "    while not temp_stack.isEmpty():\n",
        "        push_to_stack(st, pop_from_stack(temp_stack))\n",
        "\n",
        "\n",
        "print('Test 01')\n",
        "st = Stack()\n",
        "st.push(4)\n",
        "st.push(19)\n",
        "st.push(23)\n",
        "st.push(17)\n",
        "st.push(5)\n",
        "print('Stack:')\n",
        "print_stack(st)\n",
        "print('------')\n",
        "remove_block(st,2)\n",
        "print('After Removal')\n",
        "print_stack(st)\n",
        "print('------')\n",
        "\n",
        "print()\n",
        "print('======================================')\n",
        "print()\n",
        "\n",
        "print('Test 02')\n",
        "st = Stack()\n",
        "st.push(73)\n",
        "st.push(85)\n",
        "st.push(15)\n",
        "st.push(41)\n",
        "print('Stack:')\n",
        "print_stack(st)\n",
        "print('------')\n",
        "remove_block(st,3)\n",
        "print('After Removal')\n",
        "print_stack(st)\n",
        "print('------')\n",
        "\n",
        "print()\n",
        "print('======================================')\n",
        "print()"
      ],
      "metadata": {
        "id": "K0n5UeZFj_eq",
        "colab": {
          "base_uri": "https://localhost:8080/",
          "height": 518
        },
        "outputId": "969ce500-d3a9-4da9-bc69-2442e1dd042a"
      },
      "execution_count": 7,
      "outputs": [
        {
          "output_type": "stream",
          "name": "stdout",
          "text": [
            "Test 01\n",
            "Stack:\n",
            "| 5  |\n",
            "| 17 |\n",
            "| 23 |\n",
            "| 19 |\n",
            "| 4  |\n",
            "------\n"
          ]
        },
        {
          "output_type": "error",
          "ename": "UnboundLocalError",
          "evalue": "ignored",
          "traceback": [
            "\u001b[0;31m---------------------------------------------------------------------------\u001b[0m",
            "\u001b[0;31mUnboundLocalError\u001b[0m                         Traceback (most recent call last)",
            "\u001b[0;32m<ipython-input-7-2ecef5548c81>\u001b[0m in \u001b[0;36m<cell line: 48>\u001b[0;34m()\u001b[0m\n\u001b[1;32m     46\u001b[0m \u001b[0mprint_stack\u001b[0m\u001b[0;34m(\u001b[0m\u001b[0mst\u001b[0m\u001b[0;34m)\u001b[0m\u001b[0;34m\u001b[0m\u001b[0;34m\u001b[0m\u001b[0m\n\u001b[1;32m     47\u001b[0m \u001b[0mprint\u001b[0m\u001b[0;34m(\u001b[0m\u001b[0;34m'------'\u001b[0m\u001b[0;34m)\u001b[0m\u001b[0;34m\u001b[0m\u001b[0;34m\u001b[0m\u001b[0m\n\u001b[0;32m---> 48\u001b[0;31m \u001b[0mremove_block\u001b[0m\u001b[0;34m(\u001b[0m\u001b[0mst\u001b[0m\u001b[0;34m,\u001b[0m\u001b[0;36m2\u001b[0m\u001b[0;34m)\u001b[0m\u001b[0;34m\u001b[0m\u001b[0;34m\u001b[0m\u001b[0m\n\u001b[0m\u001b[1;32m     49\u001b[0m \u001b[0mprint\u001b[0m\u001b[0;34m(\u001b[0m\u001b[0;34m'After Removal'\u001b[0m\u001b[0;34m)\u001b[0m\u001b[0;34m\u001b[0m\u001b[0;34m\u001b[0m\u001b[0m\n\u001b[1;32m     50\u001b[0m \u001b[0mprint_stack\u001b[0m\u001b[0;34m(\u001b[0m\u001b[0mst\u001b[0m\u001b[0;34m)\u001b[0m\u001b[0;34m\u001b[0m\u001b[0;34m\u001b[0m\u001b[0m\n",
            "\u001b[0;32m<ipython-input-7-2ecef5548c81>\u001b[0m in \u001b[0;36mremove_block\u001b[0;34m(st, n)\u001b[0m\n\u001b[1;32m     26\u001b[0m     \u001b[0mtemp_stack\u001b[0m \u001b[0;34m=\u001b[0m \u001b[0mStack\u001b[0m\u001b[0;34m(\u001b[0m\u001b[0;34m)\u001b[0m\u001b[0;34m\u001b[0m\u001b[0;34m\u001b[0m\u001b[0m\n\u001b[1;32m     27\u001b[0m \u001b[0;34m\u001b[0m\u001b[0m\n\u001b[0;32m---> 28\u001b[0;31m     \u001b[0;32mwhile\u001b[0m \u001b[0;32mnot\u001b[0m \u001b[0mst\u001b[0m\u001b[0;34m.\u001b[0m\u001b[0misEmpty\u001b[0m\u001b[0;34m(\u001b[0m\u001b[0;34m)\u001b[0m \u001b[0;32mand\u001b[0m \u001b[0mcount\u001b[0m \u001b[0;34m<\u001b[0m \u001b[0mn\u001b[0m\u001b[0;34m:\u001b[0m\u001b[0;34m\u001b[0m\u001b[0;34m\u001b[0m\u001b[0m\n\u001b[0m\u001b[1;32m     29\u001b[0m         \u001b[0mpush_to_stack\u001b[0m\u001b[0;34m(\u001b[0m\u001b[0mtemp_stack\u001b[0m\u001b[0;34m,\u001b[0m \u001b[0mpop_from_stack\u001b[0m\u001b[0;34m(\u001b[0m\u001b[0mst\u001b[0m\u001b[0;34m)\u001b[0m\u001b[0;34m)\u001b[0m\u001b[0;34m\u001b[0m\u001b[0;34m\u001b[0m\u001b[0m\n\u001b[1;32m     30\u001b[0m         \u001b[0mcount\u001b[0m \u001b[0;34m+=\u001b[0m \u001b[0;36m1\u001b[0m\u001b[0;34m\u001b[0m\u001b[0;34m\u001b[0m\u001b[0m\n",
            "\u001b[0;31mUnboundLocalError\u001b[0m: local variable 'count' referenced before assignment"
          ]
        }
      ]
    },
    {
      "cell_type": "code",
      "source": [],
      "metadata": {
        "id": "eeFZvAI5mRmn"
      },
      "execution_count": null,
      "outputs": []
    }
  ]
}