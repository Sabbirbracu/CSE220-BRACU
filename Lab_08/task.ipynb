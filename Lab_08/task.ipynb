{
 "cells": [
  {
   "cell_type": "code",
   "execution_count": 10,
   "metadata": {},
   "outputs": [],
   "source": [
    "class BTNode:\n",
    "  def __init__(self, elem):\n",
    "    self.elem = elem\n",
    "    self.right = None\n",
    "    self.left = None"
   ]
  },
  {
   "cell_type": "code",
   "execution_count": 11,
   "metadata": {},
   "outputs": [],
   "source": [
    "def inorder(root):\n",
    "  if root == None:\n",
    "    return\n",
    "\n",
    "  inorder(root.left)\n",
    "  print(root.elem, end = ' ')\n",
    "  inorder(root.right)"
   ]
  },
  {
   "cell_type": "code",
   "execution_count": 12,
   "metadata": {},
   "outputs": [
    {
     "name": "stdout",
     "output_type": "stream",
     "text": [
      "H D B E A I F J C G k "
     ]
    }
   ],
   "source": [
    "def tree_construction(arr, i = 1):\n",
    "  if i>=len(arr) or arr[i] == None:\n",
    "    return None\n",
    "  p = BTNode(arr[i])\n",
    "  p.left = tree_construction(arr, 2*i)\n",
    "  p.right = tree_construction(arr, 2*i+1)\n",
    "  return p\n",
    "\n",
    "\n",
    "root2 = tree_construction([None, 'A', 'B', 'C', 'D', 'E', 'F', 'G', 'H', None, None, None, 'I', 'J', None, 'k'])\n",
    "inorder(root2)"
   ]
  },
  {
   "cell_type": "markdown",
   "metadata": {},
   "source": [
    "task 01"
   ]
  },
  {
   "cell_type": "code",
   "execution_count": 13,
   "metadata": {},
   "outputs": [
    {
     "name": "stdout",
     "output_type": "stream",
     "text": [
      "Given Tree Inorder Traversal:  40 20 60 10 30 \n",
      "Mirrored Tree Inorder Traversal:  30 10 60 20 40 "
     ]
    }
   ],
   "source": [
    "def convert_mirror(root):\n",
    "  if root.left != None:\n",
    "    convert_mirror(root.left)\n",
    "  else:\n",
    "    return \n",
    "\n",
    "  temp = root.left\n",
    "  root.left = root.right\n",
    "  root.right = temp\n",
    "  return root\n",
    "\n",
    "\n",
    "#DRIVER CODE\n",
    "root = BTNode(10)\n",
    "n1 = BTNode(20)\n",
    "n2 = BTNode(30)\n",
    "n3 = BTNode(40)\n",
    "n4 = BTNode(60)\n",
    "\n",
    "root.left = n1\n",
    "root.right = n2\n",
    "\n",
    "n1.left = n3\n",
    "n1.right = n4\n",
    "\n",
    "print('Given Tree Inorder Traversal: ', end = ' ')\n",
    "inorder(root) #Given Tree Inorder Traversal:  40 20 60 10 30\n",
    "print()\n",
    "\n",
    "root2 = convert_mirror(root)\n",
    "print('Mirrored Tree Inorder Traversal: ', end = ' ')\n",
    "inorder(root2) #Mirrored Tree Inorder Traversal:  30 10 60 20 40"
   ]
  },
  {
   "cell_type": "markdown",
   "metadata": {},
   "source": [
    "task 02"
   ]
  },
  {
   "cell_type": "code",
   "execution_count": 14,
   "metadata": {},
   "outputs": [
    {
     "name": "stdout",
     "output_type": "stream",
     "text": [
      "Given Tree Inorder Traversal:  3 9 5 4 2 7 \n",
      "Level Wise Largest Value:  {0: 4, 1: 9, 2: 7}\n"
     ]
    }
   ],
   "source": [
    "def largest_level(root):\n",
    "    if not root:\n",
    "        return {}\n",
    "\n",
    "    def helper(node, level, max_values):\n",
    "        if not node:\n",
    "            return\n",
    "        if level not in max_values:\n",
    "            max_values[level] = node.elem\n",
    "        else:\n",
    "            max_values[level] = max(max_values[level], node.elem)\n",
    "        helper(node.left, level + 1, max_values)\n",
    "        helper(node.right, level + 1, max_values)\n",
    "        \n",
    "    max_values = {}\n",
    "    helper(root, 0, max_values)\n",
    "    return max_values\n",
    "#DRIVER CODE\n",
    "root = tree_construction([None, 4,9,2,3,5,None,7])\n",
    "print('Given Tree Inorder Traversal: ', end = ' ')\n",
    "inorder(root) #Given Tree Inorder Traversal:  3 9 5 4 2 7\n",
    "print()\n",
    "print('Level Wise Largest Value: ', end = ' ')\n",
    "print(largest_level(root)) #Level Wise Largest Value:  {0: 4, 1: 9, 2: 7}"
   ]
  },
  {
   "cell_type": "markdown",
   "metadata": {},
   "source": [
    "Task 3"
   ]
  },
  {
   "cell_type": "code",
   "execution_count": 15,
   "metadata": {},
   "outputs": [
    {
     "name": "stdout",
     "output_type": "stream",
     "text": [
      "Given Tree Inorder Traversal:  4 8 10 12 14 20 22 \n",
      "Inorder successor of node 8: 10\n"
     ]
    }
   ],
   "source": [
    "def inorder_successor(root, x):\n",
    "     def successor(root):\n",
    "          if root.left != None:\n",
    "               successor(root.left)\n",
    "          \n",
    "          return root.left    \n",
    "     if x.right!= None:\n",
    "          output = successor(x.right)\n",
    "          return output\n",
    "\n",
    "\n",
    "#DRIVER CODE\n",
    "root = BTNode(20)\n",
    "n1 = BTNode(8)\n",
    "n2 = BTNode(22)\n",
    "n3 = BTNode(4)\n",
    "n4 = BTNode(12)\n",
    "n5 = BTNode(10)\n",
    "n6 = BTNode(14)\n",
    "\n",
    "root.left = n1\n",
    "root.right = n2\n",
    "\n",
    "n1.left = n3\n",
    "n1.right = n4\n",
    "\n",
    "n4.left = n5\n",
    "n4.right = n6\n",
    "\n",
    "print('Given Tree Inorder Traversal: ', end = ' ')\n",
    "inorder(root) #Given Tree Inorder Traversal:  4 8 10 12 14 20 22\n",
    "print()\n",
    "\n",
    "x = n1\n",
    "print(f'Inorder successor of node {x.elem}: {inorder_successor(root, x).elem}') #Inorder successor of node 8: 10"
   ]
  },
  {
   "cell_type": "code",
   "execution_count": 16,
   "metadata": {},
   "outputs": [
    {
     "name": "stdout",
     "output_type": "stream",
     "text": [
      "Given Tree Inorder Traversal:  4 5 6 7 8 9 11 12 \n",
      "7\n"
     ]
    }
   ],
   "source": [
    "def kth_smallest(root, k, i=[0]):\n",
    "    if root is None:\n",
    "        return None\n",
    "    \n",
    "    left_result = kth_smallest(root.left, k, i)\n",
    "    \n",
    "    if left_result is not None:\n",
    "        return left_result\n",
    "    \n",
    "    i[0] += 1\n",
    "    if i[0] == k:\n",
    "        return root\n",
    "    \n",
    "    return kth_smallest(root.right, k, i)\n",
    "\n",
    "    \n",
    "\n",
    "#DRIVER CODE\n",
    "root = tree_construction([None, 9,5,11,4,7,None,12,None,None,6,8,None,None,None,None])\n",
    "print('Given Tree Inorder Traversal: ', end = ' ')\n",
    "inorder(root)\n",
    "print()\n",
    "k = 4\n",
    "print(kth_smallest(root,k).elem)"
   ]
  },
  {
   "cell_type": "code",
   "execution_count": 20,
   "metadata": {},
   "outputs": [
    {
     "name": "stdout",
     "output_type": "stream",
     "text": [
      "Given Tree Inorder Traversal: H D B E A I F J C G k \n",
      "Difference between even and odd level sums: 0\n"
     ]
    }
   ],
   "source": [
    "# Bonus\n",
    "\n",
    "def calculate_sum_difference(root, level=1):\n",
    "    if root is None:\n",
    "        return 0\n",
    "    \n",
    "    current_node_sum = 0\n",
    "    \n",
    "    if isinstance(root.elem, int):\n",
    "        if level % 2 == 0:\n",
    "            current_node_sum -= root.elem\n",
    "        else:\n",
    "            current_node_sum += root.elem\n",
    "    \n",
    "    left_sum = calculate_sum_difference(root.left, level + 1)\n",
    "    right_sum = calculate_sum_difference(root.right, level + 1)\n",
    "    \n",
    "    return current_node_sum + left_sum + right_sum\n",
    "\n",
    "# DRIVER CODE\n",
    "root2 = tree_construction([None, 'A', 'B', 'C', 'D', 'E', 'F', 'G', 'H', None, None, None, 'I', 'J', None, 'k'])\n",
    "print('Given Tree Inorder Traversal:', end=' ')\n",
    "inorder(root2)\n",
    "print()\n",
    "\n",
    "difference = calculate_sum_difference(root2)\n",
    "print(\"Difference between even and odd level sums:\", difference)"
   ]
  }
 ],
 "metadata": {
  "kernelspec": {
   "display_name": "Python 3",
   "language": "python",
   "name": "python3"
  },
  "language_info": {
   "codemirror_mode": {
    "name": "ipython",
    "version": 3
   },
   "file_extension": ".py",
   "mimetype": "text/x-python",
   "name": "python",
   "nbconvert_exporter": "python",
   "pygments_lexer": "ipython3",
   "version": "3.11.3"
  },
  "orig_nbformat": 4
 },
 "nbformat": 4,
 "nbformat_minor": 2
}
